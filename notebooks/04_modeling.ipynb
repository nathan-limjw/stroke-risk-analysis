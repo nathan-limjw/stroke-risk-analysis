{
 "cells": [
  {
   "cell_type": "markdown",
   "id": "609a938e",
   "metadata": {},
   "source": [
    "## Table of Contents\n",
    "\n",
    "1. [Importing Packages](#1-importing-packages)\n",
    "2. [Data Preparation for Modeling](#2-data-preparation-for-modeling)\n",
    "3. [Baseline Model Evaluation](#3-baseline-model-evaluation)\n",
    "4. [Hyperparameter Tuning](#4-hyperparameter-tuning)\n",
    "5. [Final Model Fitting](#5-final-model-fitting)\n",
    "6. [Model Interpretation](#6-model-interpretation)"
   ]
  },
  {
   "cell_type": "markdown",
   "id": "4c7d3976",
   "metadata": {},
   "source": [
    "## 1. Importing Packages"
   ]
  },
  {
   "cell_type": "code",
   "execution_count": 127,
   "id": "214761a0",
   "metadata": {},
   "outputs": [],
   "source": [
    "import pandas as pd\n",
    "import matplotlib.pyplot as plt\n",
    "import seaborn as sns\n",
    "from sklearn.compose import ColumnTransformer\n",
    "from sklearn.model_selection import train_test_split, StratifiedKFold, cross_validate, GridSearchCV\n",
    "from sklearn.preprocessing import RobustScaler\n",
    "from sklearn.neighbors import KNeighborsClassifier\n",
    "from sklearn.linear_model import LogisticRegression\n",
    "from sklearn.ensemble import RandomForestClassifier\n",
    "from xgboost import XGBClassifier\n",
    "from sklearn.metrics import make_scorer, precision_score, recall_score, f1_score, classification_report, confusion_matrix\n"
   ]
  },
  {
   "cell_type": "markdown",
   "id": "344444ac",
   "metadata": {},
   "source": [
    "## 2. Data Preparation for Modeling"
   ]
  },
  {
   "cell_type": "markdown",
   "id": "88e026c9",
   "metadata": {},
   "source": [
    "### Data Splitting"
   ]
  },
  {
   "cell_type": "code",
   "execution_count": 128,
   "id": "52cb28ad",
   "metadata": {},
   "outputs": [],
   "source": [
    "df_modelling = pd.read_csv(\"../data/stroke_dataset_modelling.csv\")\n",
    "\n",
    "target_col = \"stroke\"\n",
    "feature_cols = [col for col in df_modelling.columns if col != target_col]\n",
    "feature_cols.remove(\"Unnamed: 0\")\n",
    "\n",
    "X = df_modelling[feature_cols]\n",
    "y = df_modelling[target_col]\n",
    "\n",
    "X_train, X_test, y_train, y_test = train_test_split(X, y, test_size= 0.2, random_state= 42, stratify= y)"
   ]
  },
  {
   "cell_type": "markdown",
   "id": "6838c946",
   "metadata": {},
   "source": [
    "### Feature Scaling"
   ]
  },
  {
   "cell_type": "code",
   "execution_count": 129,
   "id": "b497aeba",
   "metadata": {},
   "outputs": [],
   "source": [
    "numeric_cols = ['age', 'avg_glucose_level', 'bmi']\n",
    "categorical_cols = ['hypertension', 'heart_disease', \"smoking_status\", \"work_Children\", \"work_Govt_job\"]\n",
    "\n",
    "preprocessor = ColumnTransformer(\n",
    "    transformers = [\n",
    "        ('num', RobustScaler(), numeric_cols),\n",
    "        ('cat', 'passthrough', categorical_cols)\n",
    "    ]\n",
    ")"
   ]
  },
  {
   "cell_type": "markdown",
   "id": "55eac8bb",
   "metadata": {},
   "source": [
    "During univariate analysis of the numeric features, the boxplot for both `avg_glucose_level` and `bmi` has shown that there were a large number of outliers with skewed distributions. Hence, using a RobustScaler would be more optimal as it is less sensitive to outliers."
   ]
  },
  {
   "cell_type": "markdown",
   "id": "851ad54b",
   "metadata": {},
   "source": [
    "## 3. Baseline Model Evaluation"
   ]
  },
  {
   "cell_type": "markdown",
   "id": "2400a1be",
   "metadata": {},
   "source": [
    "### Model Selection"
   ]
  },
  {
   "cell_type": "code",
   "execution_count": 130,
   "id": "a9a38f94",
   "metadata": {},
   "outputs": [],
   "source": [
    "logreg = LogisticRegression(max_iter= 1000, random_state= 42, class_weight= 'balanced')\n",
    "\n",
    "knn = KNeighborsClassifier(n_neighbors= 5)\n",
    "\n",
    "rfclass = RandomForestClassifier(n_estimators = 100, random_state= 42, class_weight = 'balanced')\n",
    "\n",
    "xgbclass = XGBClassifier(use_label_encoder = False, eval_metric = 'logloss', random_state = 42)"
   ]
  },
  {
   "cell_type": "markdown",
   "id": "2fbc2bbb",
   "metadata": {},
   "source": [
    "### Cross Validation and Evaluation"
   ]
  },
  {
   "cell_type": "code",
   "execution_count": 131,
   "id": "c1c9cb2e",
   "metadata": {},
   "outputs": [
    {
     "name": "stderr",
     "output_type": "stream",
     "text": [
      "/Users/nathan/Downloads/Repos/stroke-risk-analysis/venv/lib/python3.12/site-packages/xgboost/training.py:183: UserWarning: [12:47:05] WARNING: /Users/runner/work/xgboost/xgboost/src/learner.cc:738: \n",
      "Parameters: { \"use_label_encoder\" } are not used.\n",
      "\n",
      "  bst.update(dtrain, iteration=i, fobj=obj)\n",
      "/Users/nathan/Downloads/Repos/stroke-risk-analysis/venv/lib/python3.12/site-packages/xgboost/training.py:183: UserWarning: [12:47:05] WARNING: /Users/runner/work/xgboost/xgboost/src/learner.cc:738: \n",
      "Parameters: { \"use_label_encoder\" } are not used.\n",
      "\n",
      "  bst.update(dtrain, iteration=i, fobj=obj)\n",
      "/Users/nathan/Downloads/Repos/stroke-risk-analysis/venv/lib/python3.12/site-packages/xgboost/training.py:183: UserWarning: [12:47:05] WARNING: /Users/runner/work/xgboost/xgboost/src/learner.cc:738: \n",
      "Parameters: { \"use_label_encoder\" } are not used.\n",
      "\n",
      "  bst.update(dtrain, iteration=i, fobj=obj)\n",
      "/Users/nathan/Downloads/Repos/stroke-risk-analysis/venv/lib/python3.12/site-packages/xgboost/training.py:183: UserWarning: [12:47:05] WARNING: /Users/runner/work/xgboost/xgboost/src/learner.cc:738: \n",
      "Parameters: { \"use_label_encoder\" } are not used.\n",
      "\n",
      "  bst.update(dtrain, iteration=i, fobj=obj)\n"
     ]
    },
    {
     "name": "stdout",
     "output_type": "stream",
     "text": [
      "                     Precision    Recall        F1   ROC_AUC\n",
      "Logistic Regression   0.130422  0.785161  0.223617  0.828413\n",
      "KNN                   0.066667  0.009302  0.016327  0.657623\n",
      "Random Forest         0.522619  0.046622  0.082205  0.785207\n",
      "XGBoost               0.242554  0.088815  0.129152  0.799294\n"
     ]
    },
    {
     "name": "stderr",
     "output_type": "stream",
     "text": [
      "/Users/nathan/Downloads/Repos/stroke-risk-analysis/venv/lib/python3.12/site-packages/xgboost/training.py:183: UserWarning: [12:47:06] WARNING: /Users/runner/work/xgboost/xgboost/src/learner.cc:738: \n",
      "Parameters: { \"use_label_encoder\" } are not used.\n",
      "\n",
      "  bst.update(dtrain, iteration=i, fobj=obj)\n"
     ]
    }
   ],
   "source": [
    "scoring = {\n",
    "    'precision': make_scorer(precision_score),\n",
    "    'recall': make_scorer(recall_score),\n",
    "    'f1': make_scorer(f1_score),\n",
    "    'roc_auc': 'roc_auc'\n",
    "}\n",
    "\n",
    "cv = StratifiedKFold(n_splits= 5, shuffle= True, random_state= 42)\n",
    "\n",
    "models = {\n",
    "    'Logistic Regression': (logreg, True),\n",
    "    'KNN': (knn, True),\n",
    "    'Random Forest': (rfclass, False),\n",
    "    'XGBoost': (xgbclass, False)\n",
    "}\n",
    "\n",
    "classification_results = {}\n",
    "\n",
    "for name, (model, needs_scaling) in models.items():\n",
    "\n",
    "    try:\n",
    "        if needs_scaling:\n",
    "            X_data = preprocessor.fit_transform(X_train)\n",
    "        else:\n",
    "            X_data = X_train\n",
    "   \n",
    "        cv_results = cross_validate(model, X_data, y_train, cv= cv, scoring= scoring, return_train_score= False)\n",
    "\n",
    "        classification_results[name] = {\n",
    "            'Precision': cv_results['test_precision'].mean(),\n",
    "            'Recall': cv_results['test_recall'].mean(),\n",
    "            'F1': cv_results['test_f1'].mean(),\n",
    "            'ROC_AUC': cv_results['test_roc_auc'].mean()\n",
    "        }\n",
    "    \n",
    "    except Exception as e:\n",
    "        print(f\"Error with {name}: {e}\")\n",
    "        continue\n",
    "\n",
    "classification_comparison = pd.DataFrame(classification_results).T\n",
    "print(classification_comparison)"
   ]
  },
  {
   "cell_type": "markdown",
   "id": "7d5b7fc6",
   "metadata": {},
   "source": [
    "Four classification algorithms were evaluated using a 5-fold stratified cross-validation in order to account for class imbalance. The machine learning models used were: Logistic Regression, K-Nearest Neighbors, Random Forest and XGBoost. Cross validation was performed only on the training set in order to prevent data leakage. Both Logistic Regression and KNN models received scaled data as they are distance-sensitive algorithms. On the other hand, Random Forest and XGBoost models receive the original unscaled data as they are tree-based algorithms and do not require scaled data.\n",
    "\n",
    "In terms of evaluation metrics, accuracy was not used due to class imbalance. As such, alternative metrics were used which were more suitable for imbalanced binary classification:\n",
    "\n",
    "- Precision: Minimises false stroke predictions\n",
    "- Recall: Maximises stroke detection rate\n",
    "- F1 Score: Balance between both precision and recall \n",
    "- ROC-AUC: overall discrimiation performance between having and not having stroke\n",
    "\n",
    "Comparing the evaluation metrics of the 4 models, Logistic Regression stands out as the most optimal model for stroke prediction. Logistic Regression stands out for having the highest ROC-AUC score (0.828413), indicating it has the strongest discriminatory power between whether a patient has or does not have stroke. Although Random Forest models have the highest precision (0.522619), its low recall value (0.046622) makes it unsuitable for stroke detection. On that note, Logistic Regression has the highest recall value (0.785161), which is critical for stroke prediction in order to minimise the number of false negative cases. Overall, Logistic Regression models also has the highest F1 Score (0.223617), achieving the best balance of predicting the most number of stroke incidences correctly while not overwhelming the model with false positives."
   ]
  },
  {
   "cell_type": "markdown",
   "id": "c8c3bef0",
   "metadata": {},
   "source": [
    "## 4. Hyperparameter Tuning"
   ]
  },
  {
   "cell_type": "code",
   "execution_count": 132,
   "id": "7a2a1dcb",
   "metadata": {},
   "outputs": [
    {
     "name": "stderr",
     "output_type": "stream",
     "text": [
      "/Users/nathan/Downloads/Repos/stroke-risk-analysis/venv/lib/python3.12/site-packages/sklearn/linear_model/_sag.py:348: ConvergenceWarning: The max_iter was reached which means the coef_ did not converge\n",
      "  warnings.warn(\n",
      "/Users/nathan/Downloads/Repos/stroke-risk-analysis/venv/lib/python3.12/site-packages/sklearn/linear_model/_sag.py:348: ConvergenceWarning: The max_iter was reached which means the coef_ did not converge\n",
      "  warnings.warn(\n",
      "/Users/nathan/Downloads/Repos/stroke-risk-analysis/venv/lib/python3.12/site-packages/sklearn/linear_model/_sag.py:348: ConvergenceWarning: The max_iter was reached which means the coef_ did not converge\n",
      "  warnings.warn(\n",
      "/Users/nathan/Downloads/Repos/stroke-risk-analysis/venv/lib/python3.12/site-packages/sklearn/linear_model/_sag.py:348: ConvergenceWarning: The max_iter was reached which means the coef_ did not converge\n",
      "  warnings.warn(\n",
      "/Users/nathan/Downloads/Repos/stroke-risk-analysis/venv/lib/python3.12/site-packages/sklearn/linear_model/_sag.py:348: ConvergenceWarning: The max_iter was reached which means the coef_ did not converge\n",
      "  warnings.warn(\n",
      "/Users/nathan/Downloads/Repos/stroke-risk-analysis/venv/lib/python3.12/site-packages/sklearn/linear_model/_sag.py:348: ConvergenceWarning: The max_iter was reached which means the coef_ did not converge\n",
      "  warnings.warn(\n",
      "/Users/nathan/Downloads/Repos/stroke-risk-analysis/venv/lib/python3.12/site-packages/sklearn/linear_model/_sag.py:348: ConvergenceWarning: The max_iter was reached which means the coef_ did not converge\n",
      "  warnings.warn(\n",
      "/Users/nathan/Downloads/Repos/stroke-risk-analysis/venv/lib/python3.12/site-packages/sklearn/linear_model/_sag.py:348: ConvergenceWarning: The max_iter was reached which means the coef_ did not converge\n",
      "  warnings.warn(\n",
      "/Users/nathan/Downloads/Repos/stroke-risk-analysis/venv/lib/python3.12/site-packages/sklearn/linear_model/_sag.py:348: ConvergenceWarning: The max_iter was reached which means the coef_ did not converge\n",
      "  warnings.warn(\n",
      "/Users/nathan/Downloads/Repos/stroke-risk-analysis/venv/lib/python3.12/site-packages/sklearn/linear_model/_sag.py:348: ConvergenceWarning: The max_iter was reached which means the coef_ did not converge\n",
      "  warnings.warn(\n",
      "/Users/nathan/Downloads/Repos/stroke-risk-analysis/venv/lib/python3.12/site-packages/sklearn/linear_model/_sag.py:348: ConvergenceWarning: The max_iter was reached which means the coef_ did not converge\n",
      "  warnings.warn(\n",
      "/Users/nathan/Downloads/Repos/stroke-risk-analysis/venv/lib/python3.12/site-packages/sklearn/linear_model/_sag.py:348: ConvergenceWarning: The max_iter was reached which means the coef_ did not converge\n",
      "  warnings.warn(\n",
      "/Users/nathan/Downloads/Repos/stroke-risk-analysis/venv/lib/python3.12/site-packages/sklearn/linear_model/_sag.py:348: ConvergenceWarning: The max_iter was reached which means the coef_ did not converge\n",
      "  warnings.warn(\n",
      "/Users/nathan/Downloads/Repos/stroke-risk-analysis/venv/lib/python3.12/site-packages/sklearn/linear_model/_sag.py:348: ConvergenceWarning: The max_iter was reached which means the coef_ did not converge\n",
      "  warnings.warn(\n",
      "/Users/nathan/Downloads/Repos/stroke-risk-analysis/venv/lib/python3.12/site-packages/sklearn/linear_model/_sag.py:348: ConvergenceWarning: The max_iter was reached which means the coef_ did not converge\n",
      "  warnings.warn(\n",
      "/Users/nathan/Downloads/Repos/stroke-risk-analysis/venv/lib/python3.12/site-packages/sklearn/linear_model/_sag.py:348: ConvergenceWarning: The max_iter was reached which means the coef_ did not converge\n",
      "  warnings.warn(\n",
      "/Users/nathan/Downloads/Repos/stroke-risk-analysis/venv/lib/python3.12/site-packages/sklearn/linear_model/_sag.py:348: ConvergenceWarning: The max_iter was reached which means the coef_ did not converge\n",
      "  warnings.warn(\n",
      "/Users/nathan/Downloads/Repos/stroke-risk-analysis/venv/lib/python3.12/site-packages/sklearn/linear_model/_sag.py:348: ConvergenceWarning: The max_iter was reached which means the coef_ did not converge\n",
      "  warnings.warn(\n",
      "/Users/nathan/Downloads/Repos/stroke-risk-analysis/venv/lib/python3.12/site-packages/sklearn/linear_model/_sag.py:348: ConvergenceWarning: The max_iter was reached which means the coef_ did not converge\n",
      "  warnings.warn(\n",
      "/Users/nathan/Downloads/Repos/stroke-risk-analysis/venv/lib/python3.12/site-packages/sklearn/linear_model/_sag.py:348: ConvergenceWarning: The max_iter was reached which means the coef_ did not converge\n",
      "  warnings.warn(\n",
      "/Users/nathan/Downloads/Repos/stroke-risk-analysis/venv/lib/python3.12/site-packages/sklearn/linear_model/_sag.py:348: ConvergenceWarning: The max_iter was reached which means the coef_ did not converge\n",
      "  warnings.warn(\n",
      "/Users/nathan/Downloads/Repos/stroke-risk-analysis/venv/lib/python3.12/site-packages/sklearn/linear_model/_sag.py:348: ConvergenceWarning: The max_iter was reached which means the coef_ did not converge\n",
      "  warnings.warn(\n",
      "/Users/nathan/Downloads/Repos/stroke-risk-analysis/venv/lib/python3.12/site-packages/sklearn/linear_model/_sag.py:348: ConvergenceWarning: The max_iter was reached which means the coef_ did not converge\n",
      "  warnings.warn(\n",
      "/Users/nathan/Downloads/Repos/stroke-risk-analysis/venv/lib/python3.12/site-packages/sklearn/linear_model/_sag.py:348: ConvergenceWarning: The max_iter was reached which means the coef_ did not converge\n",
      "  warnings.warn(\n",
      "/Users/nathan/Downloads/Repos/stroke-risk-analysis/venv/lib/python3.12/site-packages/sklearn/linear_model/_sag.py:348: ConvergenceWarning: The max_iter was reached which means the coef_ did not converge\n",
      "  warnings.warn(\n",
      "/Users/nathan/Downloads/Repos/stroke-risk-analysis/venv/lib/python3.12/site-packages/sklearn/linear_model/_sag.py:348: ConvergenceWarning: The max_iter was reached which means the coef_ did not converge\n",
      "  warnings.warn(\n",
      "/Users/nathan/Downloads/Repos/stroke-risk-analysis/venv/lib/python3.12/site-packages/sklearn/linear_model/_sag.py:348: ConvergenceWarning: The max_iter was reached which means the coef_ did not converge\n",
      "  warnings.warn(\n",
      "/Users/nathan/Downloads/Repos/stroke-risk-analysis/venv/lib/python3.12/site-packages/sklearn/linear_model/_sag.py:348: ConvergenceWarning: The max_iter was reached which means the coef_ did not converge\n",
      "  warnings.warn(\n",
      "/Users/nathan/Downloads/Repos/stroke-risk-analysis/venv/lib/python3.12/site-packages/sklearn/linear_model/_sag.py:348: ConvergenceWarning: The max_iter was reached which means the coef_ did not converge\n",
      "  warnings.warn(\n",
      "/Users/nathan/Downloads/Repos/stroke-risk-analysis/venv/lib/python3.12/site-packages/sklearn/linear_model/_sag.py:348: ConvergenceWarning: The max_iter was reached which means the coef_ did not converge\n",
      "  warnings.warn(\n",
      "/Users/nathan/Downloads/Repos/stroke-risk-analysis/venv/lib/python3.12/site-packages/sklearn/linear_model/_sag.py:348: ConvergenceWarning: The max_iter was reached which means the coef_ did not converge\n",
      "  warnings.warn(\n",
      "/Users/nathan/Downloads/Repos/stroke-risk-analysis/venv/lib/python3.12/site-packages/sklearn/linear_model/_sag.py:348: ConvergenceWarning: The max_iter was reached which means the coef_ did not converge\n",
      "  warnings.warn(\n",
      "/Users/nathan/Downloads/Repos/stroke-risk-analysis/venv/lib/python3.12/site-packages/sklearn/linear_model/_sag.py:348: ConvergenceWarning: The max_iter was reached which means the coef_ did not converge\n",
      "  warnings.warn(\n",
      "/Users/nathan/Downloads/Repos/stroke-risk-analysis/venv/lib/python3.12/site-packages/sklearn/linear_model/_sag.py:348: ConvergenceWarning: The max_iter was reached which means the coef_ did not converge\n",
      "  warnings.warn(\n",
      "/Users/nathan/Downloads/Repos/stroke-risk-analysis/venv/lib/python3.12/site-packages/sklearn/linear_model/_sag.py:348: ConvergenceWarning: The max_iter was reached which means the coef_ did not converge\n",
      "  warnings.warn(\n",
      "/Users/nathan/Downloads/Repos/stroke-risk-analysis/venv/lib/python3.12/site-packages/sklearn/linear_model/_sag.py:348: ConvergenceWarning: The max_iter was reached which means the coef_ did not converge\n",
      "  warnings.warn(\n"
     ]
    },
    {
     "name": "stdout",
     "output_type": "stream",
     "text": [
      "Best parameters: {'C': 10, 'penalty': 'l1', 'solver': 'saga'}\n",
      "Best CV score: 0.2249\n"
     ]
    },
    {
     "name": "stderr",
     "output_type": "stream",
     "text": [
      "/Users/nathan/Downloads/Repos/stroke-risk-analysis/venv/lib/python3.12/site-packages/sklearn/linear_model/_sag.py:348: ConvergenceWarning: The max_iter was reached which means the coef_ did not converge\n",
      "  warnings.warn(\n",
      "/Users/nathan/Downloads/Repos/stroke-risk-analysis/venv/lib/python3.12/site-packages/sklearn/linear_model/_sag.py:348: ConvergenceWarning: The max_iter was reached which means the coef_ did not converge\n",
      "  warnings.warn(\n",
      "/Users/nathan/Downloads/Repos/stroke-risk-analysis/venv/lib/python3.12/site-packages/sklearn/linear_model/_sag.py:348: ConvergenceWarning: The max_iter was reached which means the coef_ did not converge\n",
      "  warnings.warn(\n",
      "/Users/nathan/Downloads/Repos/stroke-risk-analysis/venv/lib/python3.12/site-packages/sklearn/linear_model/_sag.py:348: ConvergenceWarning: The max_iter was reached which means the coef_ did not converge\n",
      "  warnings.warn(\n",
      "/Users/nathan/Downloads/Repos/stroke-risk-analysis/venv/lib/python3.12/site-packages/sklearn/model_selection/_validation.py:516: FitFailedWarning: \n",
      "50 fits failed out of a total of 150.\n",
      "The score on these train-test partitions for these parameters will be set to nan.\n",
      "If these failures are not expected, you can try to debug them by setting error_score='raise'.\n",
      "\n",
      "Below are more details about the failures:\n",
      "--------------------------------------------------------------------------------\n",
      "25 fits failed with the following error:\n",
      "Traceback (most recent call last):\n",
      "  File \"/Users/nathan/Downloads/Repos/stroke-risk-analysis/venv/lib/python3.12/site-packages/sklearn/model_selection/_validation.py\", line 859, in _fit_and_score\n",
      "    estimator.fit(X_train, y_train, **fit_params)\n",
      "  File \"/Users/nathan/Downloads/Repos/stroke-risk-analysis/venv/lib/python3.12/site-packages/sklearn/base.py\", line 1365, in wrapper\n",
      "    return fit_method(estimator, *args, **kwargs)\n",
      "           ^^^^^^^^^^^^^^^^^^^^^^^^^^^^^^^^^^^^^^\n",
      "  File \"/Users/nathan/Downloads/Repos/stroke-risk-analysis/venv/lib/python3.12/site-packages/sklearn/linear_model/_logistic.py\", line 1218, in fit\n",
      "    solver = _check_solver(self.solver, self.penalty, self.dual)\n",
      "             ^^^^^^^^^^^^^^^^^^^^^^^^^^^^^^^^^^^^^^^^^^^^^^^^^^^\n",
      "  File \"/Users/nathan/Downloads/Repos/stroke-risk-analysis/venv/lib/python3.12/site-packages/sklearn/linear_model/_logistic.py\", line 72, in _check_solver\n",
      "    raise ValueError(\n",
      "ValueError: Only 'saga' solver supports elasticnet penalty, got solver=liblinear.\n",
      "\n",
      "--------------------------------------------------------------------------------\n",
      "25 fits failed with the following error:\n",
      "Traceback (most recent call last):\n",
      "  File \"/Users/nathan/Downloads/Repos/stroke-risk-analysis/venv/lib/python3.12/site-packages/sklearn/model_selection/_validation.py\", line 859, in _fit_and_score\n",
      "    estimator.fit(X_train, y_train, **fit_params)\n",
      "  File \"/Users/nathan/Downloads/Repos/stroke-risk-analysis/venv/lib/python3.12/site-packages/sklearn/base.py\", line 1365, in wrapper\n",
      "    return fit_method(estimator, *args, **kwargs)\n",
      "           ^^^^^^^^^^^^^^^^^^^^^^^^^^^^^^^^^^^^^^\n",
      "  File \"/Users/nathan/Downloads/Repos/stroke-risk-analysis/venv/lib/python3.12/site-packages/sklearn/linear_model/_logistic.py\", line 1228, in fit\n",
      "    raise ValueError(\"l1_ratio must be specified when penalty is elasticnet.\")\n",
      "ValueError: l1_ratio must be specified when penalty is elasticnet.\n",
      "\n",
      "  warnings.warn(some_fits_failed_message, FitFailedWarning)\n",
      "/Users/nathan/Downloads/Repos/stroke-risk-analysis/venv/lib/python3.12/site-packages/sklearn/model_selection/_search.py:1135: UserWarning: One or more of the test scores are non-finite: [0.20039294 0.21159218 0.21817769 0.21954756        nan        nan\n",
      " 0.22018002 0.21727281 0.22211396 0.22288711        nan        nan\n",
      " 0.22342674 0.20825462 0.22452037 0.21119717        nan        nan\n",
      " 0.22266989 0.22485968 0.22280566 0.19788286        nan        nan\n",
      " 0.22280566 0.19574639 0.22280566 0.21318247        nan        nan]\n",
      "  warnings.warn(\n",
      "/Users/nathan/Downloads/Repos/stroke-risk-analysis/venv/lib/python3.12/site-packages/sklearn/linear_model/_sag.py:348: ConvergenceWarning: The max_iter was reached which means the coef_ did not converge\n",
      "  warnings.warn(\n"
     ]
    }
   ],
   "source": [
    "param_grid = {\n",
    "    'C': [0.01, 0.1, 1, 10, 100],\n",
    "    'penalty': [\"l1\", \"l2\", \"elasticnet\"],\n",
    "    'solver': ['liblinear', 'saga']\n",
    "}\n",
    "\n",
    "grid_search = GridSearchCV(\n",
    "    estimator = LogisticRegression(random_state= 42, class_weight= 'balanced'),\n",
    "    param_grid= param_grid,\n",
    "    cv = cv,\n",
    "    scoring = 'f1',\n",
    "    n_jobs = -1\n",
    ")\n",
    "\n",
    "X_train_scaled = preprocessor.fit_transform(X_train)\n",
    "grid_search.fit(X_train_scaled, y_train)\n",
    "\n",
    "\n",
    "print(f\"Best parameters: {grid_search.best_params_}\")\n",
    "print(f\"Best CV score: {grid_search.best_score_:.4f}\")\n"
   ]
  },
  {
   "cell_type": "markdown",
   "id": "a876f991",
   "metadata": {},
   "source": [
    "In terms of hyperparameter tuning, GridSearchCV was used to optimise the Logistic Regression model, which has shown the best performance in baseline model evaluation. Simiarly, the same 5-fold stratified approach was used for consistency. The different folds were evaluated based on their F1 Score to maintain focus on balanced precision-recall performance of the model, using only the training set to prevent data leakage. The following hyperparameters were explored to determine the best values to optimise model performance:\n",
    "\n",
    "- **C:** Refers to regularization strength, which controls overfitting. \n",
    "- **penalty:** Refers to the type of regularization, either feature selection or shrinkage\n",
    "- **solver:** Refers to the optimization algorithm\n",
    "\n",
    "The GridSearch algorithm has determined that the most optimal set of hyperparameters for LogisticRegression are: \n",
    "- **C** = 10\n",
    "- **penalty** = 'l1'\n",
    "- **solver** = 'saga'"
   ]
  },
  {
   "cell_type": "markdown",
   "id": "117b7214",
   "metadata": {},
   "source": [
    "## 5. Final Model Fitting"
   ]
  },
  {
   "cell_type": "code",
   "execution_count": 133,
   "id": "840a53f0",
   "metadata": {},
   "outputs": [
    {
     "name": "stderr",
     "output_type": "stream",
     "text": [
      "/Users/nathan/Downloads/Repos/stroke-risk-analysis/venv/lib/python3.12/site-packages/sklearn/linear_model/_sag.py:348: ConvergenceWarning: The max_iter was reached which means the coef_ did not converge\n",
      "  warnings.warn(\n"
     ]
    }
   ],
   "source": [
    "final_model = grid_search.best_estimator_\n",
    "final_model.fit(X_train_scaled, y_train)\n",
    "\n",
    "X_test_scaled = preprocessor.transform(X_test)\n",
    "\n",
    "y_pred = final_model.predict(X_test_scaled)\n",
    "y_pred_proba = final_model.predict_proba(X_test_scaled)"
   ]
  },
  {
   "cell_type": "markdown",
   "id": "10bc79b2",
   "metadata": {},
   "source": [
    "## 6. Model Interpretation"
   ]
  },
  {
   "cell_type": "markdown",
   "id": "c6d9db4c",
   "metadata": {},
   "source": [
    "### Confusion Matrix & Classification Report"
   ]
  },
  {
   "cell_type": "code",
   "execution_count": 134,
   "id": "06d15791",
   "metadata": {},
   "outputs": [
    {
     "data": {
      "image/png": "[encoded data removed]",
      "text/plain": [
       "<Figure size 800x600 with 2 Axes>"
      ]
     },
     "metadata": {},
     "output_type": "display_data"
    },
    {
     "name": "stdout",
     "output_type": "stream",
     "text": [
      "              precision    recall  f1-score   support\n",
      "\n",
      "           0       0.99      0.70      0.82      1052\n",
      "           1       0.13      0.85      0.22        54\n",
      "\n",
      "    accuracy                           0.70      1106\n",
      "   macro avg       0.56      0.77      0.52      1106\n",
      "weighted avg       0.95      0.70      0.79      1106\n",
      "\n"
     ]
    }
   ],
   "source": [
    "cm = confusion_matrix(y_test, y_pred)\n",
    "\n",
    "plt.figure(figsize=(8, 6))\n",
    "sns.heatmap(cm, annot=True, fmt='d', cmap='Blues', \n",
    "            xticklabels=['No Disease', 'Disease'], \n",
    "            yticklabels=['No Disease', 'Disease'])\n",
    "plt.title('Confusion Matrix')\n",
    "plt.xlabel('Predicted')\n",
    "plt.ylabel('Actual')\n",
    "plt.show()\n",
    "\n",
    "\n",
    "print(classification_report(y_test, y_pred))"
   ]
  },
  {
   "cell_type": "markdown",
   "id": "6c3eafea",
   "metadata": {},
   "source": [
    "Combining the results of the classification report and confusion matrix, the model demonstrates a strong ability to detect stroke cases (class 1), as seen in the high recall value of 0.85. This means that the model can correctly identify 85% of actual stroke cases, which is crucial in this medical context where minimising the rate of false negatives is a priority. \n",
    "\n",
    "However, the precision for class 1 is low at 0.13, which aligns with the large number of false positives (319) in the confusion matrix. This suggests that the although the model flags many patients as potentially having strokes, a significant portion of those are likely to be incorrect predictions.\n",
    "\n",
    "The F1-score for class 1 is 0.22, which represents the balance between precision and recall. Although precision is weak, the strong recall drives the F1-score to reflect a model that errs on the side of caution. This is a reasonable trade-off in healthcare screenings, where it is more important to catch as many true stroke cases as possible as opposed to avoiding false alarms."
   ]
  },
  {
   "cell_type": "markdown",
   "id": "4c73c2fe",
   "metadata": {},
   "source": [
    "### Feature Importance"
   ]
  },
  {
   "cell_type": "code",
   "execution_count": 135,
   "id": "ad1023c0",
   "metadata": {},
   "outputs": [
    {
     "name": "stdout",
     "output_type": "stream",
     "text": [
      "                  Feature  Coefficient\n",
      "0                num__age     2.524260\n",
      "4      cat__heart_disease     0.903715\n",
      "6      cat__work_Children     0.881209\n",
      "3       cat__hypertension     0.644057\n",
      "1  num__avg_glucose_level     0.584192\n",
      "5     cat__smoking_status     0.374800\n",
      "2                num__bmi    -0.129152\n",
      "7      cat__work_Govt_job    -0.213857\n"
     ]
    }
   ],
   "source": [
    "coefficients = grid_search.best_estimator_.coef_[0]  \n",
    "feature_names = preprocessor.get_feature_names_out()  \n",
    "\n",
    "# Create DataFrame\n",
    "coef_df = pd.DataFrame({\n",
    "    'Feature': feature_names,\n",
    "    'Coefficient': coefficients\n",
    "})\n",
    "\n",
    "print(coef_df.sort_values(\"Coefficient\", ascending = False))"
   ]
  },
  {
   "cell_type": "markdown",
   "id": "81feb051",
   "metadata": {},
   "source": [
    "The most impactful features influencing the stroke prediction model were:\n",
    "\n",
    "- `age`: Strongest positive contributor (+2.52) with older individuals having significantly higher risk of stroke\n",
    "- `heart_disease`: Second highest positive contributor (+0.90) with any underlying heart diseases increasing the risk of an individual having stroke\n",
    "- `work_type` = \"Children\" : Third highest positive contributor (+0.88) which is surprisingly high, suggesting that there is a need for further data investigation\n",
    "- `hypertension`: Fourth highest positive contributor (+0.64) where individuals with high blood pressure have an increased risk of stroke"
   ]
  },
  {
   "cell_type": "markdown",
   "id": "fbb67421",
   "metadata": {},
   "source": [
    "### Final Insight"
   ]
  },
  {
   "cell_type": "markdown",
   "id": "c7c623b9",
   "metadata": {},
   "source": [
    "While the model shows strong recall for detecting the risk of stroke (class 1), it comes at the cost of low precision due to a high number of false positives. This trade-off is acceptable in a medical context where identifying as many potential stroke cases as possible is more important than having some healthy individuals misclassified. This model can then be used as a pre-screening tool to flag high-risk individuals based on age, hypertension and heart disease. Thereafter, these patients can undergo further clinical evaluation to have a more reliable assessment of stroke risk. \n",
    "\n",
    "In future work, more balanced or enriched data can be collected to ensure that there is a more even spread of data amongst classes to mitigate any class imbalances. Additionally, the modeling process can be adapted to include more ensemble models to better handle any class imbalances."
   ]
  }
 ],
 "metadata": {
  "kernelspec": {
   "display_name": "venv",
   "language": "python",
   "name": "python3"
  },
  "language_info": {
   "codemirror_mode": {
    "name": "ipython",
    "version": 3
   },
   "file_extension": ".py",
   "mimetype": "text/x-python",
   "name": "python",
   "nbconvert_exporter": "python",
   "pygments_lexer": "ipython3",
   "version": "3.12.4"
  }
 },
 "nbformat": 4,
 "nbformat_minor": 5
}
