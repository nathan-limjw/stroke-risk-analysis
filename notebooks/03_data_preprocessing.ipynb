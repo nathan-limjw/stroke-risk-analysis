{
 "cells": [
  {
   "cell_type": "markdown",
   "id": "61b8bc7f",
   "metadata": {},
   "source": [
    "## 1. Importing Packages"
   ]
  },
  {
   "cell_type": "code",
   "execution_count": 8,
   "id": "0f8f39c0",
   "metadata": {},
   "outputs": [],
   "source": [
    "import pandas as pd"
   ]
  },
  {
   "cell_type": "markdown",
   "id": "99a92b5d",
   "metadata": {},
   "source": [
    "## 2. Feature Engineering and Selection"
   ]
  },
  {
   "cell_type": "code",
   "execution_count": 9,
   "id": "bb2bd542",
   "metadata": {},
   "outputs": [
    {
     "data": {
      "text/html": [
       "<div>\n",
       "<style scoped>\n",
       "    .dataframe tbody tr th:only-of-type {\n",
       "        vertical-align: middle;\n",
       "    }\n",
       "\n",
       "    .dataframe tbody tr th {\n",
       "        vertical-align: top;\n",
       "    }\n",
       "\n",
       "    .dataframe thead th {\n",
       "        text-align: right;\n",
       "    }\n",
       "</style>\n",
       "<table border=\"1\" class=\"dataframe\">\n",
       "  <thead>\n",
       "    <tr style=\"text-align: right;\">\n",
       "      <th></th>\n",
       "      <th>age</th>\n",
       "      <th>hypertension</th>\n",
       "      <th>heart_disease</th>\n",
       "      <th>work_type</th>\n",
       "      <th>avg_glucose_level</th>\n",
       "      <th>bmi</th>\n",
       "      <th>smoking_status</th>\n",
       "      <th>stroke</th>\n",
       "    </tr>\n",
       "  </thead>\n",
       "  <tbody>\n",
       "    <tr>\n",
       "      <th>0</th>\n",
       "      <td>23</td>\n",
       "      <td>0</td>\n",
       "      <td>0</td>\n",
       "      <td>Private</td>\n",
       "      <td>92.26</td>\n",
       "      <td>17.1</td>\n",
       "      <td>Unknown</td>\n",
       "      <td>0</td>\n",
       "    </tr>\n",
       "    <tr>\n",
       "      <th>1</th>\n",
       "      <td>82</td>\n",
       "      <td>0</td>\n",
       "      <td>0</td>\n",
       "      <td>Self-employed</td>\n",
       "      <td>82.21</td>\n",
       "      <td>26.0</td>\n",
       "      <td>Never smoked</td>\n",
       "      <td>0</td>\n",
       "    </tr>\n",
       "    <tr>\n",
       "      <th>2</th>\n",
       "      <td>26</td>\n",
       "      <td>0</td>\n",
       "      <td>0</td>\n",
       "      <td>Private</td>\n",
       "      <td>103.61</td>\n",
       "      <td>31.4</td>\n",
       "      <td>Never smoked</td>\n",
       "      <td>0</td>\n",
       "    </tr>\n",
       "    <tr>\n",
       "      <th>3</th>\n",
       "      <td>13</td>\n",
       "      <td>0</td>\n",
       "      <td>0</td>\n",
       "      <td>Children</td>\n",
       "      <td>94.12</td>\n",
       "      <td>20.1</td>\n",
       "      <td>Never smoked</td>\n",
       "      <td>0</td>\n",
       "    </tr>\n",
       "    <tr>\n",
       "      <th>4</th>\n",
       "      <td>7</td>\n",
       "      <td>0</td>\n",
       "      <td>0</td>\n",
       "      <td>Children</td>\n",
       "      <td>87.94</td>\n",
       "      <td>28.1</td>\n",
       "      <td>Unknown</td>\n",
       "      <td>0</td>\n",
       "    </tr>\n",
       "  </tbody>\n",
       "</table>\n",
       "</div>"
      ],
      "text/plain": [
       "   age  hypertension  heart_disease      work_type  avg_glucose_level   bmi  \\\n",
       "0   23             0              0        Private              92.26  17.1   \n",
       "1   82             0              0  Self-employed              82.21  26.0   \n",
       "2   26             0              0        Private             103.61  31.4   \n",
       "3   13             0              0       Children              94.12  20.1   \n",
       "4    7             0              0       Children              87.94  28.1   \n",
       "\n",
       "  smoking_status  stroke  \n",
       "0        Unknown       0  \n",
       "1   Never smoked       0  \n",
       "2   Never smoked       0  \n",
       "3   Never smoked       0  \n",
       "4        Unknown       0  "
      ]
     },
     "execution_count": 9,
     "metadata": {},
     "output_type": "execute_result"
    }
   ],
   "source": [
    "df_cleaned = pd.read_csv(\"../data/stroke_dataset_cleaned.csv\")\n",
    "df_modelling = df_cleaned.drop([\"id\", \"Unnamed: 0\", \"Residence_type\", \"gender\", \"ever_married\"], axis = 1)\n",
    "df_modelling.head()"
   ]
  },
  {
   "cell_type": "markdown",
   "id": "7b271c99",
   "metadata": {},
   "source": [
    "The following columns were dropped for the remainder of this analysis:\n",
    "\n",
    "`id`: An unique patient identifier that has no statistical meaning to the analysis, and only serves to weed out duplicate patient records.\n",
    "\n",
    "`Residence_type`: Significant high p-value (1.000 vs 0.05) in the Chi-square test for target-feature analysis indicates that it is independent of stroke onset in patients.\n",
    "\n",
    "`gender` & `ever_married`: High p-values above significance level in the Chi-square test for target-feature analysis (0.078052 in `gender` & 0.172338 in `ever_married`), indicating that they are weak predictors of stroke. Additionally, these features have high multicollinearity with other strong predictors, which would interfere with model performance.\n",
    "\n",
    "The columns for `smoking_status` and `bmi` were kept for analysis despite the results of the target-feature relationship. Despite the high p-value in the Chi-Square analysis of `smoking_status` and `stroke` (0.511786), and the lack of difference in distribution and median values in the boxplot, literature reviews suggest otherwise that BMI and smoking history are in fact strong predictors of stroke. As such, their values are kept for the modelling process."
   ]
  },
  {
   "cell_type": "code",
   "execution_count": 10,
   "id": "208ac8f3",
   "metadata": {},
   "outputs": [
    {
     "name": "stderr",
     "output_type": "stream",
     "text": [
      "/var/folders/7t/qj85ttzs5jzfv55wltyfltvw0000gn/T/ipykernel_35350/2208944543.py:11: FutureWarning: Downcasting behavior in `replace` is deprecated and will be removed in a future version. To retain the old behavior, explicitly call `result.infer_objects(copy=False)`. To opt-in to the future behavior, set `pd.set_option('future.no_silent_downcasting', True)`\n",
      "  df_modelling[\"smoking_status\"] = df_modelling[\"smoking_status\"].replace(smoking_scoring)\n"
     ]
    }
   ],
   "source": [
    "# Encoding Smoking Status Column\n",
    "smoking_scoring = {\n",
    "\n",
    "    \"Unknown\": 0,\n",
    "    \"Never smoked\": 0,\n",
    "    \"Formerly smoked\": 0.5,\n",
    "    \"Smokes\": 1\n",
    "\n",
    "}\n",
    "\n",
    "df_modelling[\"smoking_status\"] = df_modelling[\"smoking_status\"].replace(smoking_scoring)\n",
    "\n",
    "# Encoding Work Type Column\n",
    "\n",
    "work_type_encoded = pd.get_dummies(df_modelling[\"work_type\"], prefix= 'work')\n",
    "df_modelling = pd.concat([df_modelling.drop([\"work_type\"],axis=1), work_type_encoded], axis = 1)\n",
    "\n",
    "df_modelling.head()\n",
    "df_modelling.to_csv(\"../data/stroke_dataset_modelling.csv\")"
   ]
  },
  {
   "cell_type": "markdown",
   "id": "dfa3ef39",
   "metadata": {},
   "source": [
    "The `smoking_status` column was ordinally encoded to reflect potential health risks: \"Unknown\" and \"Never smoked\" were encoded as 0. \"Smokes\" were encoded as 1 to reflect active risk, and \"Formerly smoked\" was encoded as 0.5 to capture any residual effects of past smoking.\n",
    "\n",
    "For the `work_type` column, one-hot encoding was used to avoid introducing ordinality. Dummy variables were created using the \"work_\" prefix and the original columns were dropped."
   ]
  }
 ],
 "metadata": {
  "kernelspec": {
   "display_name": "venv",
   "language": "python",
   "name": "python3"
  },
  "language_info": {
   "codemirror_mode": {
    "name": "ipython",
    "version": 3
   },
   "file_extension": ".py",
   "mimetype": "text/x-python",
   "name": "python",
   "nbconvert_exporter": "python",
   "pygments_lexer": "ipython3",
   "version": "3.12.4"
  }
 },
 "nbformat": 4,
 "nbformat_minor": 5
}
