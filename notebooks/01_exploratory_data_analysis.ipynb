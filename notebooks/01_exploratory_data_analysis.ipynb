{
 "cells": [
  {
   "cell_type": "markdown",
   "id": "83535068",
   "metadata": {},
   "source": [
    "# Stroke Risk Analysis"
   ]
  },
  {
   "cell_type": "markdown",
   "id": "aaf994aa",
   "metadata": {},
   "source": [
    "## 1. Project Background"
   ]
  },
  {
   "cell_type": "markdown",
   "id": "f26664bf",
   "metadata": {},
   "source": [
    "Stroke is defined as a medical condition in which there is poor blood flow towards the brain, leading to cell death. The World Health Organization cites stroke as the 2nd leading cause of death globally, accounting for approximately 11% of total deaths. \n",
    "\n",
    "This project aims to build a predictive model to assess the likelihood of the onset of stroke of a patient using various potential parameters such as gender, age, medical history and smoking status. Ideally, the model should prioritise identifyingh high-risk patients while maintaining clinical practicality, ensuring that healthcare professionals can rely on the predictions for decision-making support.\n",
    "\n",
    "The original data was obtained from [Kaggle](https://www.kaggle.com/datasets/fedesoriano/stroke-prediction-dataset). In order to simulate real-world data issues, the dataset has been purposefully augmented to include formatting inconsistencies, missing values, duplicate entries as well as invalid values. The augmented dataset can be viewed [here](../data/stroke_dataset_messy.csv).\n",
    "\n",
    "This notebook focuses on the process of data cleaning as well as performing exploratory data analysis to analyse the target variables and its potential features, individually and how they interact with one another in order to shortlist the strongest predictors of stroke.\n",
    "\n",
    "### Table of Contents\n",
    "\n",
    "1. [Project Background](#1-project-background)\n",
    "2. [Importing Packages](#2-importing-packages)\n",
    "3. [Data Overview](#3-data-overview)\n",
    "4. [Data Quality Assessment](#4-data-quality-assessment)\n",
    "5. [Data Cleaning](#5-data-cleaning)\n",
    "6. [Target Variable Analysis](#6-target-variable-analysis)\n",
    "7. [Univariate Analysis for Features](#7-univariate-analysis-for-features)\n",
    "8. [Bivariate Analysis of Features and Targets](#8-bivariate-analysis-of-features-and-target)\n",
    "9. [Bivariate Analysis amongst Features](#9-bivariate-analysis-amongst-features)\n",
    "10. [Feature Engineering and Selection](#10-feature-engineering-and-selection)"
   ]
  },
  {
   "cell_type": "markdown",
   "id": "f03b5ae8",
   "metadata": {},
   "source": [
    "## 2. Importing Packages"
   ]
  },
  {
   "cell_type": "code",
   "execution_count": 326,
   "id": "25ca93a8",
   "metadata": {},
   "outputs": [],
   "source": [
    "import pandas as pd\n",
    "import numpy as np\n",
    "import matplotlib.pyplot as plt\n",
    "import seaborn as sns\n",
    "import sys\n",
    "import os\n",
    "from scipy.stats import chi2_contingency\n",
    "from itertools import combinations\n",
    "\n",
    "sys.path.append('..')\n",
    "from src import standardize_capitalisation_and_spacing, impute_by_mode, impute_by_median"
   ]
  },
  {
   "cell_type": "markdown",
   "id": "f0da21c0",
   "metadata": {},
   "source": [
    "## 3. Data Overview"
   ]
  },
  {
   "cell_type": "code",
   "execution_count": 327,
   "id": "9d2de4f8",
   "metadata": {},
   "outputs": [
    {
     "data": {
      "text/html": [
       "<div>\n",
       "<style scoped>\n",
       "    .dataframe tbody tr th:only-of-type {\n",
       "        vertical-align: middle;\n",
       "    }\n",
       "\n",
       "    .dataframe tbody tr th {\n",
       "        vertical-align: top;\n",
       "    }\n",
       "\n",
       "    .dataframe thead th {\n",
       "        text-align: right;\n",
       "    }\n",
       "</style>\n",
       "<table border=\"1\" class=\"dataframe\">\n",
       "  <thead>\n",
       "    <tr style=\"text-align: right;\">\n",
       "      <th></th>\n",
       "      <th>id</th>\n",
       "      <th>gender</th>\n",
       "      <th>age</th>\n",
       "      <th>hypertension</th>\n",
       "      <th>heart_disease</th>\n",
       "      <th>ever_married</th>\n",
       "      <th>work_type</th>\n",
       "      <th>Residence_type</th>\n",
       "      <th>avg_glucose_level</th>\n",
       "      <th>bmi</th>\n",
       "      <th>smoking_status</th>\n",
       "      <th>stroke</th>\n",
       "    </tr>\n",
       "  </thead>\n",
       "  <tbody>\n",
       "    <tr>\n",
       "      <th>0</th>\n",
       "      <td>7885</td>\n",
       "      <td>Female</td>\n",
       "      <td>23.0</td>\n",
       "      <td>0</td>\n",
       "      <td>0</td>\n",
       "      <td>No</td>\n",
       "      <td>Private</td>\n",
       "      <td>Rural</td>\n",
       "      <td>92.26</td>\n",
       "      <td>17.1</td>\n",
       "      <td>Unknown</td>\n",
       "      <td>0</td>\n",
       "    </tr>\n",
       "    <tr>\n",
       "      <th>1</th>\n",
       "      <td>39120</td>\n",
       "      <td>FEMALE</td>\n",
       "      <td>82.0</td>\n",
       "      <td>0</td>\n",
       "      <td>0</td>\n",
       "      <td>No</td>\n",
       "      <td>Self-employed</td>\n",
       "      <td>Urban</td>\n",
       "      <td>82.21</td>\n",
       "      <td>26.0</td>\n",
       "      <td>never smoked</td>\n",
       "      <td>0</td>\n",
       "    </tr>\n",
       "    <tr>\n",
       "      <th>2</th>\n",
       "      <td>73740</td>\n",
       "      <td>male</td>\n",
       "      <td>26.0</td>\n",
       "      <td>0</td>\n",
       "      <td>0</td>\n",
       "      <td>No</td>\n",
       "      <td>Private</td>\n",
       "      <td>Urban</td>\n",
       "      <td>103.61</td>\n",
       "      <td>31.4</td>\n",
       "      <td>never smoked</td>\n",
       "      <td>0</td>\n",
       "    </tr>\n",
       "    <tr>\n",
       "      <th>3</th>\n",
       "      <td>14404</td>\n",
       "      <td>Female</td>\n",
       "      <td>13.0</td>\n",
       "      <td>0</td>\n",
       "      <td>0</td>\n",
       "      <td>NO</td>\n",
       "      <td>children</td>\n",
       "      <td>Urban</td>\n",
       "      <td>94.12</td>\n",
       "      <td>20.1</td>\n",
       "      <td>never smoked</td>\n",
       "      <td>0</td>\n",
       "    </tr>\n",
       "    <tr>\n",
       "      <th>4</th>\n",
       "      <td>73346</td>\n",
       "      <td>Female</td>\n",
       "      <td>25.5</td>\n",
       "      <td>NaN</td>\n",
       "      <td>No</td>\n",
       "      <td>NaN</td>\n",
       "      <td>Student</td>\n",
       "      <td>Urban</td>\n",
       "      <td>9999</td>\n",
       "      <td>0</td>\n",
       "      <td></td>\n",
       "      <td>99</td>\n",
       "    </tr>\n",
       "    <tr>\n",
       "      <th>5</th>\n",
       "      <td>937</td>\n",
       "      <td>Male</td>\n",
       "      <td>7.0</td>\n",
       "      <td>0</td>\n",
       "      <td>0</td>\n",
       "      <td>No</td>\n",
       "      <td>children</td>\n",
       "      <td>Urban</td>\n",
       "      <td>87.94</td>\n",
       "      <td>NaN</td>\n",
       "      <td>Unknown</td>\n",
       "      <td>0</td>\n",
       "    </tr>\n",
       "    <tr>\n",
       "      <th>6</th>\n",
       "      <td>39308</td>\n",
       "      <td>Male</td>\n",
       "      <td>62.0</td>\n",
       "      <td>0</td>\n",
       "      <td>0</td>\n",
       "      <td>Yes</td>\n",
       "      <td>Private</td>\n",
       "      <td>City</td>\n",
       "      <td>145.37</td>\n",
       "      <td>33.3</td>\n",
       "      <td>UNKNOWN</td>\n",
       "      <td>0</td>\n",
       "    </tr>\n",
       "    <tr>\n",
       "      <th>7</th>\n",
       "      <td>2082</td>\n",
       "      <td>Male</td>\n",
       "      <td>35.0</td>\n",
       "      <td>0</td>\n",
       "      <td>0</td>\n",
       "      <td>Yes</td>\n",
       "      <td>Private</td>\n",
       "      <td>Rural</td>\n",
       "      <td>115.92</td>\n",
       "      <td>NaN</td>\n",
       "      <td>formerly smoked</td>\n",
       "      <td>0</td>\n",
       "    </tr>\n",
       "    <tr>\n",
       "      <th>8</th>\n",
       "      <td>46434</td>\n",
       "      <td>Male</td>\n",
       "      <td>52.0</td>\n",
       "      <td>1</td>\n",
       "      <td>0</td>\n",
       "      <td>Yes</td>\n",
       "      <td>Govt_job</td>\n",
       "      <td>Urban</td>\n",
       "      <td>214.43</td>\n",
       "      <td>39.9</td>\n",
       "      <td>smokes</td>\n",
       "      <td>0</td>\n",
       "    </tr>\n",
       "    <tr>\n",
       "      <th>9</th>\n",
       "      <td>48851</td>\n",
       "      <td>Female</td>\n",
       "      <td>9.0</td>\n",
       "      <td>0</td>\n",
       "      <td>0</td>\n",
       "      <td>No</td>\n",
       "      <td>children</td>\n",
       "      <td>Rural</td>\n",
       "      <td>77.67</td>\n",
       "      <td>17.6</td>\n",
       "      <td>?</td>\n",
       "      <td>0</td>\n",
       "    </tr>\n",
       "  </tbody>\n",
       "</table>\n",
       "</div>"
      ],
      "text/plain": [
       "      id  gender   age hypertension heart_disease ever_married      work_type  \\\n",
       "0   7885  Female  23.0            0             0           No        Private   \n",
       "1  39120  FEMALE  82.0            0             0           No  Self-employed   \n",
       "2  73740    male  26.0            0             0           No        Private   \n",
       "3  14404  Female  13.0            0             0           NO       children   \n",
       "4  73346  Female  25.5          NaN            No          NaN        Student   \n",
       "5    937    Male   7.0            0             0           No       children   \n",
       "6  39308    Male  62.0            0             0          Yes        Private   \n",
       "7   2082    Male  35.0            0             0          Yes        Private   \n",
       "8  46434    Male  52.0            1             0          Yes       Govt_job   \n",
       "9  48851  Female   9.0            0             0           No       children   \n",
       "\n",
       "  Residence_type avg_glucose_level   bmi   smoking_status stroke  \n",
       "0          Rural             92.26  17.1          Unknown      0  \n",
       "1          Urban             82.21  26.0     never smoked      0  \n",
       "2          Urban            103.61  31.4     never smoked      0  \n",
       "3          Urban             94.12  20.1     never smoked      0  \n",
       "4          Urban              9999     0                      99  \n",
       "5          Urban             87.94   NaN          Unknown      0  \n",
       "6           City            145.37  33.3          UNKNOWN      0  \n",
       "7          Rural            115.92   NaN  formerly smoked      0  \n",
       "8          Urban            214.43  39.9           smokes      0  \n",
       "9          Rural             77.67  17.6                ?      0  "
      ]
     },
     "execution_count": 327,
     "metadata": {},
     "output_type": "execute_result"
    }
   ],
   "source": [
    "df_raw = pd.read_csv(\"../data/stroke_dataset_messy.csv\")\n",
    "df_raw.head(10)"
   ]
  },
  {
   "cell_type": "code",
   "execution_count": 328,
   "id": "f4d7fc3f",
   "metadata": {},
   "outputs": [
    {
     "name": "stdout",
     "output_type": "stream",
     "text": [
      "<class 'pandas.core.frame.DataFrame'>\n",
      "RangeIndex: 6029 entries, 0 to 6028\n",
      "Data columns (total 12 columns):\n",
      " #   Column             Non-Null Count  Dtype \n",
      "---  ------             --------------  ----- \n",
      " 0   id                 6029 non-null   int64 \n",
      " 1   gender             5958 non-null   object\n",
      " 2   age                5943 non-null   object\n",
      " 3   hypertension       5880 non-null   object\n",
      " 4   heart_disease      5887 non-null   object\n",
      " 5   ever_married       5919 non-null   object\n",
      " 6   work_type          5939 non-null   object\n",
      " 7   Residence_type     5898 non-null   object\n",
      " 8   avg_glucose_level  5902 non-null   object\n",
      " 9   bmi                5613 non-null   object\n",
      " 10  smoking_status     5921 non-null   object\n",
      " 11  stroke             5901 non-null   object\n",
      "dtypes: int64(1), object(11)\n",
      "memory usage: 565.3+ KB\n"
     ]
    }
   ],
   "source": [
    "df_raw.info()"
   ]
  },
  {
   "cell_type": "code",
   "execution_count": 329,
   "id": "630c0745",
   "metadata": {},
   "outputs": [
    {
     "data": {
      "text/html": [
       "<div>\n",
       "<style scoped>\n",
       "    .dataframe tbody tr th:only-of-type {\n",
       "        vertical-align: middle;\n",
       "    }\n",
       "\n",
       "    .dataframe tbody tr th {\n",
       "        vertical-align: top;\n",
       "    }\n",
       "\n",
       "    .dataframe thead th {\n",
       "        text-align: right;\n",
       "    }\n",
       "</style>\n",
       "<table border=\"1\" class=\"dataframe\">\n",
       "  <thead>\n",
       "    <tr style=\"text-align: right;\">\n",
       "      <th></th>\n",
       "      <th>id</th>\n",
       "    </tr>\n",
       "  </thead>\n",
       "  <tbody>\n",
       "    <tr>\n",
       "      <th>count</th>\n",
       "      <td>6029.000000</td>\n",
       "    </tr>\n",
       "    <tr>\n",
       "      <th>mean</th>\n",
       "      <td>42139.775751</td>\n",
       "    </tr>\n",
       "    <tr>\n",
       "      <th>std</th>\n",
       "      <td>23565.427945</td>\n",
       "    </tr>\n",
       "    <tr>\n",
       "      <th>min</th>\n",
       "      <td>67.000000</td>\n",
       "    </tr>\n",
       "    <tr>\n",
       "      <th>25%</th>\n",
       "      <td>21625.000000</td>\n",
       "    </tr>\n",
       "    <tr>\n",
       "      <th>50%</th>\n",
       "      <td>43454.000000</td>\n",
       "    </tr>\n",
       "    <tr>\n",
       "      <th>75%</th>\n",
       "      <td>64582.000000</td>\n",
       "    </tr>\n",
       "    <tr>\n",
       "      <th>max</th>\n",
       "      <td>73859.000000</td>\n",
       "    </tr>\n",
       "  </tbody>\n",
       "</table>\n",
       "</div>"
      ],
      "text/plain": [
       "                 id\n",
       "count   6029.000000\n",
       "mean   42139.775751\n",
       "std    23565.427945\n",
       "min       67.000000\n",
       "25%    21625.000000\n",
       "50%    43454.000000\n",
       "75%    64582.000000\n",
       "max    73859.000000"
      ]
     },
     "execution_count": 329,
     "metadata": {},
     "output_type": "execute_result"
    }
   ],
   "source": [
    "df_raw.describe()"
   ]
  },
  {
   "cell_type": "code",
   "execution_count": 330,
   "id": "699198c5",
   "metadata": {},
   "outputs": [
    {
     "data": {
      "text/plain": [
       "(6029, 12)"
      ]
     },
     "execution_count": 330,
     "metadata": {},
     "output_type": "execute_result"
    }
   ],
   "source": [
    "df_raw.shape"
   ]
  },
  {
   "cell_type": "markdown",
   "id": "0b09830c",
   "metadata": {},
   "source": [
    "### Conceptualising the Dataset\n",
    "\n",
    "Each row of the dataset represents patient information and each patient is uniquely identified by their id. The most important column is `stroke`, which is the target variable for modelling. The other columns serve as potential features that may influence whether a patient is likely to have stroke or not. Some of these are demographics (age, gender, marital status, work type, residential type), medical history (hypertension, heart disease), lifestyle (smoking status) and clinical measurements (bmi, glucose level).\n"
   ]
  },
  {
   "cell_type": "markdown",
   "id": "108b110d",
   "metadata": {},
   "source": [
    "## 4. Data Quality Assessment"
   ]
  },
  {
   "cell_type": "markdown",
   "id": "1f496978",
   "metadata": {},
   "source": [
    "### Duplicate Value Analysis"
   ]
  },
  {
   "cell_type": "code",
   "execution_count": 331,
   "id": "b91c9048",
   "metadata": {},
   "outputs": [
    {
     "name": "stdout",
     "output_type": "stream",
     "text": [
      "Number of duplicate values: 0\n"
     ]
    }
   ],
   "source": [
    "num_dupes = int(df_raw.duplicated().sum())\n",
    "print(f\"Number of duplicate values: {num_dupes}\")"
   ]
  },
  {
   "cell_type": "markdown",
   "id": "38e34485",
   "metadata": {},
   "source": [
    "There are no duplicate values in the dataset, which reinforces the uniqueness of the `id` column and that each id corresponds to a unique patient."
   ]
  },
  {
   "cell_type": "markdown",
   "id": "c6478c7b",
   "metadata": {},
   "source": [
    "### Missing Value Analysis"
   ]
  },
  {
   "cell_type": "code",
   "execution_count": 332,
   "id": "026f70ea",
   "metadata": {},
   "outputs": [
    {
     "name": "stdout",
     "output_type": "stream",
     "text": [
      "                   Number of Missing Values  Proportion of Missing Values\n",
      "bmi                                     416                          6.90\n",
      "hypertension                            149                          2.47\n",
      "heart_disease                           142                          2.36\n",
      "Residence_type                          131                          2.17\n",
      "stroke                                  128                          2.12\n",
      "avg_glucose_level                       127                          2.11\n",
      "ever_married                            110                          1.82\n",
      "smoking_status                          108                          1.79\n",
      "work_type                                90                          1.49\n",
      "age                                      86                          1.43\n",
      "gender                                   71                          1.18\n",
      "id                                        0                          0.00\n"
     ]
    },
    {
     "data": {
      "image/png": "[encoded data removed]",
      "text/plain": [
       "<Figure size 1000x500 with 2 Axes>"
      ]
     },
     "metadata": {},
     "output_type": "display_data"
    }
   ],
   "source": [
    "missing_values = pd.DataFrame({\n",
    "    \"Number of Missing Values\": df_raw.isna().sum(),\n",
    "    \"Proportion of Missing Values\": round(df_raw.isna().sum()/ len(df_raw) * 100, 2)})\n",
    "\n",
    "print(missing_values.sort_values(\"Proportion of Missing Values\", ascending= False))\n",
    "\n",
    "plt.figure(figsize= (10,5))\n",
    "sns.heatmap(df_raw.isnull(), yticklabels= False, cbar = True, cmap = 'viridis')\n",
    "plt.title(\"Missing Data Patterns\")\n",
    "plt.show()"
   ]
  },
  {
   "cell_type": "markdown",
   "id": "31dab096",
   "metadata": {},
   "source": [
    "All columns except `id` contain missing values. While the proportion of missing values in each column is within reason (< 10%), the pattern of missing values requires careful examination before proceeding with exploratory data analysis.\n",
    "\n",
    "The heatmap visualisation shows that missing values are missing completely at random, with scattered yellow lines (indicating missing values) and no thick horizontal or vertical bands in the chart. This means that there is no hidden bias in the missing values and the missing values can be addressed either through deletion or imputation.\n",
    "\n",
    "The following columns: `bmi`, `heart_disease`, `hypertension`, `stroke` are of concern as the proportion of missing values exceed 5% and require more careful handling during the data cleaning stage."
   ]
  },
  {
   "cell_type": "markdown",
   "id": "84bdd5d8",
   "metadata": {},
   "source": [
    "### Formatting Analysis"
   ]
  },
  {
   "cell_type": "code",
   "execution_count": 333,
   "id": "09ffaa1c",
   "metadata": {},
   "outputs": [
    {
     "data": {
      "text/plain": [
       "array(['0', '99', '1', nan, 'No', 'Unknown', '2', '-1', 'Yes'],\n",
       "      dtype=object)"
      ]
     },
     "execution_count": 333,
     "metadata": {},
     "output_type": "execute_result"
    }
   ],
   "source": [
    "df_raw[\"gender\"].unique()\n",
    "df_raw[\"age\"].unique()\n",
    "df_raw[\"hypertension\"].unique()\n",
    "df_raw[\"heart_disease\"].unique()\n",
    "df_raw[\"ever_married\"].unique()\n",
    "df_raw[\"work_type\"].unique()\n",
    "df_raw[\"Residence_type\"].unique()\n",
    "df_raw['avg_glucose_level'].unique()\n",
    "df_raw[\"bmi\"].unique()\n",
    "df_raw[\"smoking_status\"].unique()\n",
    "df_raw[\"stroke\"].unique()"
   ]
  },
  {
   "cell_type": "markdown",
   "id": "999be177",
   "metadata": {},
   "source": [
    "Investigation of the values in each of these fields found multiple errors that need to be addressed during the data cleaning stage.\n",
    "\n",
    "**Membership Constraints in Categorical Columns**: Categorical columns (`gender`, `hypertension`, `heart_disease`, `ever_married`, `work_type`, `Residence_type`, `smoking_status`, `stroke`) contain invalid values that do not fit into the assigned categories listed in the data card. Additionally, there are many similar entries that are assigned as different categories because of differing capitalisation and spacings.\n",
    "\n",
    "**Formatting Inconsistencies in Numerical Columns**: Numeric columns contain units of measurements (e.g. 23.1 kg/m2) and irregular decimal formatting ('4.0.0').\n",
    "\n",
    "**Invalid Values in Numerical Columns**: Some values in the `age` column are deemed invalid as they are below 0 and above 100. There are also float values which need to be rounded down so that the values in the column are discrete numeric values. The same errors can be found in the `bmi` column which contain string values (e.g. \"Obese\"), negative errors and extreme values (> 50).\n",
    "\n",
    "**Wrong Column Types**: Columns in the dataset are not properly formatted into the correct data types to be consistent to their values."
   ]
  },
  {
   "cell_type": "markdown",
   "id": "4f943d67",
   "metadata": {},
   "source": [
    "## 5. Data Cleaning"
   ]
  },
  {
   "cell_type": "markdown",
   "id": "11224a19",
   "metadata": {},
   "source": [
    "### Addressing Formatting Inconsistencies"
   ]
  },
  {
   "cell_type": "code",
   "execution_count": 334,
   "id": "9eacb3a2",
   "metadata": {},
   "outputs": [],
   "source": [
    "df_copy = df_raw.copy()\n",
    "\n",
    "standardize_capitalisation_and_spacing(df_copy)"
   ]
  },
  {
   "cell_type": "markdown",
   "id": "dfa77927",
   "metadata": {},
   "source": [
    "Trailing spaces were removed from all columns, and all string values have been converted to lower case, with the first letter capitalised. This is to ensure consistent spelling and categorization especially for categorical columns to collapse as many categories together that may have been otherwise separated."
   ]
  },
  {
   "cell_type": "markdown",
   "id": "acdde619",
   "metadata": {},
   "source": [
    "#### Categorical Columns"
   ]
  },
  {
   "cell_type": "code",
   "execution_count": 335,
   "id": "ccca771b",
   "metadata": {},
   "outputs": [
    {
     "data": {
      "text/plain": [
       "['Female', 'Male', NaN, 'Other']\n",
       "Categories (3, object): ['Female', 'Male', 'Other']"
      ]
     },
     "execution_count": 335,
     "metadata": {},
     "output_type": "execute_result"
    }
   ],
   "source": [
    "#df_copy[\"gender\"].unique()\n",
    "\n",
    "gender_mapping = {\n",
    "    'F': 'Female',\n",
    "    'Woman': 'Female',\n",
    "    \n",
    "    'M': 'Male',\n",
    "    'Man': 'Male',\n",
    "\n",
    "    'Non-binary': 'Other',\n",
    "\n",
    "    'Prefer not to say': np.nan,\n",
    "    'Nan': np.nan,\n",
    "    '': np.nan,\n",
    "    '?': np.nan,\n",
    "    'Unknown': np.nan\n",
    "}\n",
    "\n",
    "df_copy['gender'] = df_copy['gender'].replace(gender_mapping)\n",
    "df_copy[\"gender\"] = df_copy[\"gender\"].astype(\"category\")\n",
    "df_copy[\"gender\"].unique()\n"
   ]
  },
  {
   "cell_type": "code",
   "execution_count": 336,
   "id": "e761f5be",
   "metadata": {},
   "outputs": [
    {
     "data": {
      "text/plain": [
       "['0', NaN, '1']\n",
       "Categories (2, object): ['0', '1']"
      ]
     },
     "execution_count": 336,
     "metadata": {},
     "output_type": "execute_result"
    }
   ],
   "source": [
    "#df_copy[\"hypertension\"].unique()\n",
    "\n",
    "hypertension_mapping = {\n",
    "    'Yes': '1',\n",
    "\n",
    "    'No': '0',\n",
    "\n",
    "    '2': np.nan,\n",
    "    'Nan': np.nan,\n",
    "    '-1': np.nan,\n",
    "    'Unknown': np.nan,\n",
    "    '99': np.nan\n",
    "\n",
    "}\n",
    "\n",
    "df_copy['hypertension'] = df_copy['hypertension'].replace(hypertension_mapping)\n",
    "df_copy[\"hypertension\"] = df_copy[\"hypertension\"].astype(\"category\")\n",
    "df_copy[\"hypertension\"].unique()"
   ]
  },
  {
   "cell_type": "code",
   "execution_count": 337,
   "id": "e00c3775",
   "metadata": {},
   "outputs": [
    {
     "data": {
      "text/plain": [
       "['0', '1', NaN]\n",
       "Categories (2, object): ['0', '1']"
      ]
     },
     "execution_count": 337,
     "metadata": {},
     "output_type": "execute_result"
    }
   ],
   "source": [
    "#df_copy[\"heart_disease\"].unique()\n",
    "\n",
    "heart_disease_mapping = {\n",
    "    'Yes': '1',\n",
    "\n",
    "    'No': '0',\n",
    "\n",
    "    '2': np.nan,\n",
    "    'Nan': np.nan,\n",
    "    '-1': np.nan,\n",
    "    'Unknown': np.nan,\n",
    "    '99': np.nan\n",
    "\n",
    "}\n",
    "\n",
    "df_copy['heart_disease'] = df_copy['heart_disease'].replace(heart_disease_mapping)\n",
    "df_copy[\"heart_disease\"] = df_copy[\"heart_disease\"].astype(\"category\")\n",
    "df_copy[\"heart_disease\"].unique()"
   ]
  },
  {
   "cell_type": "code",
   "execution_count": 338,
   "id": "f519a22d",
   "metadata": {},
   "outputs": [
    {
     "data": {
      "text/plain": [
       "['No', NaN, 'Yes']\n",
       "Categories (2, object): ['No', 'Yes']"
      ]
     },
     "execution_count": 338,
     "metadata": {},
     "output_type": "execute_result"
    }
   ],
   "source": [
    "#df_copy[\"ever_married\"].unique()\n",
    "\n",
    "marital_mapping = {\n",
    "    'True': 'Yes',\n",
    "    'Divorced': 'Yes',\n",
    "    'Married': 'Yes',\n",
    "    'Y': 'Yes',\n",
    "\n",
    "    'False': 'No',\n",
    "    'N': 'No',\n",
    "    'Single': 'No',\n",
    "\n",
    "    'Unknown': np.nan,\n",
    "    '': np.nan,\n",
    "    'Nan': np.nan\n",
    "    \n",
    "}\n",
    "\n",
    "df_copy[\"ever_married\"] = df_copy['ever_married'].replace(marital_mapping)\n",
    "df_copy[\"ever_married\"] = df_copy[\"ever_married\"].astype(\"category\")\n",
    "df_copy[\"ever_married\"].unique()"
   ]
  },
  {
   "cell_type": "code",
   "execution_count": 339,
   "id": "82954c01",
   "metadata": {},
   "outputs": [
    {
     "data": {
      "text/plain": [
       "['Private', 'Self-employed', 'Children', 'Govt_job', NaN, 'Never_worked']\n",
       "Categories (5, object): ['Children', 'Govt_job', 'Never_worked', 'Private', 'Self-employed']"
      ]
     },
     "execution_count": 339,
     "metadata": {},
     "output_type": "execute_result"
    }
   ],
   "source": [
    "#df_copy['work_type'].unique()\n",
    "\n",
    "work_mapping = {\n",
    "    \"Private sector\": \"Private\",\n",
    "\n",
    "    \"Child\": 'Children',\n",
    "    \"Student\": 'Children',\n",
    "\n",
    "    \"Government\": \"Govt_job\",\n",
    "    \"Public sector\": \"Govt_job\",\n",
    "\n",
    "    \"Retired\": \"Never_worked\",\n",
    "    \"Unemployed\": 'Never_worked',\n",
    "    \"Never worked\": \"Never_worked\",\n",
    "\n",
    "    \"Freelance\": \"Self-employed\",\n",
    "    \"Self employed\": \"Self-employed\",\n",
    "\n",
    "    \"Unknown\": np.nan,\n",
    "    \"Nan\": np.nan\n",
    "}\n",
    "\n",
    "df_copy[\"work_type\"] = df_copy[\"work_type\"].replace(work_mapping)\n",
    "df_copy[\"work_type\"] = df_copy[\"work_type\"].astype(\"category\")\n",
    "df_copy[\"work_type\"].unique()"
   ]
  },
  {
   "cell_type": "code",
   "execution_count": 340,
   "id": "535f6c65",
   "metadata": {},
   "outputs": [
    {
     "data": {
      "text/plain": [
       "['Rural', 'Urban', NaN]\n",
       "Categories (2, object): ['Rural', 'Urban']"
      ]
     },
     "execution_count": 340,
     "metadata": {},
     "output_type": "execute_result"
    }
   ],
   "source": [
    "#df_copy[\"Residence_type\"].unique()\n",
    "\n",
    "residence_mapping ={\n",
    "    \n",
    "    'Village': 'Rural',\n",
    "\n",
    "    'City': 'Urban',\n",
    "    'Suburban': 'Urban',\n",
    "\n",
    "    'Nan': np.nan,\n",
    "    'Unknown': np.nan,\n",
    "    '': np.nan\n",
    "\n",
    "}\n",
    "\n",
    "df_copy[\"Residence_type\"] = df_copy[\"Residence_type\"].replace(residence_mapping)\n",
    "df_copy[\"Residence_type\"] = df_copy[\"Residence_type\"].astype(\"category\")\n",
    "df_copy[\"Residence_type\"].unique()"
   ]
  },
  {
   "cell_type": "code",
   "execution_count": 341,
   "id": "3cc2db92",
   "metadata": {},
   "outputs": [
    {
     "data": {
      "text/plain": [
       "['Unknown', 'Never smoked', 'Formerly smoked', 'Smokes']\n",
       "Categories (4, object): ['Formerly smoked', 'Never smoked', 'Smokes', 'Unknown']"
      ]
     },
     "execution_count": 341,
     "metadata": {},
     "output_type": "execute_result"
    }
   ],
   "source": [
    "#df_copy['smoking_status'].unique()\n",
    "\n",
    "smoking_mapping = {\n",
    "\n",
    "    \"Nan\": \"Unknown\",\n",
    "    \"Not known\": \"Unknown\",\n",
    "    '?': \"Unknown\",\n",
    "    '': 'Unknown',\n",
    "\n",
    "    \"Never_smoked\": \"Never smoked\",\n",
    "    \"Non-smoker\": \"Never smoked\",\n",
    "\n",
    "    \"Ex-smoker\": \"Formerly smoked\",\n",
    "    \"Formerly_smoked\": \"Formerly smoked\",\n",
    "\n",
    "    \"Current smoker\": \"Smokes\",\n",
    "    \"Smoker\": \"Smokes\",\n",
    "\n",
    "}\n",
    "\n",
    "df_copy[\"smoking_status\"] = df_copy['smoking_status'].replace(smoking_mapping)\n",
    "df_copy[\"smoking_status\"] = df_copy[\"smoking_status\"].astype(\"category\")\n",
    "df_copy['smoking_status'].unique()"
   ]
  },
  {
   "cell_type": "code",
   "execution_count": 342,
   "id": "b70179a7",
   "metadata": {},
   "outputs": [
    {
     "data": {
      "text/plain": [
       "['0', NaN, '1']\n",
       "Categories (2, object): ['0', '1']"
      ]
     },
     "execution_count": 342,
     "metadata": {},
     "output_type": "execute_result"
    }
   ],
   "source": [
    "#df_copy[\"stroke\"].unique()\n",
    "\n",
    "stroke_mapping = {\n",
    "\n",
    "    'Yes': '1',\n",
    "\n",
    "    'No': '0',\n",
    "\n",
    "    'Nan': np.nan,\n",
    "    \"2\": np.nan,\n",
    "    '-1': np.nan,\n",
    "    'Unknown': np.nan,\n",
    "    '99': np.nan\n",
    "\n",
    "}\n",
    "\n",
    "df_copy[\"stroke\"] = df_copy['stroke'].replace(stroke_mapping)\n",
    "df_copy[\"stroke\"] = df_copy[\"stroke\"].astype(\"category\")\n",
    "df_copy[\"stroke\"].unique()"
   ]
  },
  {
   "cell_type": "markdown",
   "id": "2d20ab15",
   "metadata": {},
   "source": [
    "To ensure consistency across categorical variables, inconsistent entries were cleaned by mapping similar values to standardized categories in the data card. Entries with spelling inconsistencies and shorthand notations were mapped to their correct forms. Empty or invalid values were replaced with nan values.\n",
    "\n",
    "`hypertension`, `heart_disease` & `stroke`: These columns only accept binary values (\"0\" for absence of disease, \"1\" for presence of disease). Values like \"Yes\" and \"No\" were mapped to \"1\" and \"0\" respectively. Entries labelled \"Unknown\" and out-of-range numeric values (\"2\", \"-1\" & \"99\") are ambiguous and not indicative of the presence or absence of disease, and were converted to nan values.\n",
    "\n",
    "`gender`: Gender values belong to one of three classes: \"Male\", \"Female\", and \"Other\". Shorthand notations and nouns referring to gender identity were mapped to their corresponding classes (\"F\" and \"Woman\" to \"Female\", \"M\" and \"Man\" to \"Male\"). Entries labelled \"Non-binary\" were mapped to \"Other\" as they do not fit into the typical \"Male\" and \"Female\" category. The remaining entries (\"\", \"?\", \"Unknown\", \"Prefer not to say\") were ambiguous and converted to nan values as they cannot be reliably classified into any of the three categories.\n",
    "\n",
    "`ever_married`: This column only accepts 'Yes' or 'No' values. Entries indicating a current or previous marital status ('True', \"Divorced\", \"Married\", \"Y\") were mapped to \"Yes\" and those indicating that patients were never married (\"Single\", \"False\", \"N\") were mapped to \"No\". Missing and unknown values were converted to nan.\n",
    "\n",
    "`work_type`: Work type categories were consolidated into their standardized groups. Employment-related entries were mapped as follows: \"Private sector\" to \"Private\", government-related work (\"Government\", \"Public sector\") to \"Govt_job\", and self-employed variants (\"Freelance\", \"Self employed\") to \"Self-employed\". Non-working individuals were grouped by category: dependents (\"Child\", \"Student\") were mapped to \"Children\", while those not in the workforce (\"Retired\", \"Unemployed\", \"Never worked\") were mapped to \"Never_worked\". Unknown entries were converted to nan.\n",
    "\n",
    "`Residence_type`: The type of residence can only be classified as either \"Rural\" or \"Urban\". Entries indicating more remote living (\"Village\") were mapped to \"Rural\", and those indicating a more developed area (\"City\", \"Suburban\") were mapped to \"Urban\". Unknown and missing entries were converted to nan. \n",
    "\n",
    "`smoking_status`: Smoking status values were standardized into their consistent categories. Current smoking indicators (\"Current smoker\", \"Smoker\") were mapped to \"Smokes\", past smoking history (\"Ex-smoker\", \"Formerly_smoked\") were mapped to \"Formerly smoked\", and non-smoking indicators (\"Never_smoked\", \"Non-smoker\") were mapped to \"Never smoked\". Ambiguous and missing entries were mapped to \"Unknown\".\n",
    "\n",
    "All columns were then converted to the category type."
   ]
  },
  {
   "cell_type": "markdown",
   "id": "585e018a",
   "metadata": {},
   "source": [
    "#### Numeric Columns"
   ]
  },
  {
   "cell_type": "code",
   "execution_count": 343,
   "id": "323dd580",
   "metadata": {},
   "outputs": [
    {
     "data": {
      "text/plain": [
       "<IntegerArray>\n",
       "[  23,   82,   26,   13,    7,   62,   35,   52,    9,   68,   47,   81,   20,\n",
       "   12,   53,   54,   30,   66,    2,    5,   50,   73,   36,   55,   58,    0,\n",
       " <NA>,   78,    6,   61,   18,   65,   79,   59,   43,   34,   67,   60,   70,\n",
       "   21,   44,   17,   80,   27,   40,   72,    3,   22,    1,   31,   45,   32,\n",
       "   38,   75,   28,   37,   39,   69,   16,   51,    8,   42,   77,   46,   15,\n",
       "   29,   63,   57,   19,   41,   33,   14,   76,   11,   56,   24,   49,   25,\n",
       "   74,   71,   64,   10,   48,   93,    4,   91,   88,   83,   86,   90]\n",
       "Length: 90, dtype: Int64"
      ]
     },
     "execution_count": 343,
     "metadata": {},
     "output_type": "execute_result"
    }
   ],
   "source": [
    "#df_copy[\"age\"].unique()\n",
    "\n",
    "df_copy['age'] = df_copy['age'].str.replace(r'\\.0\\.0$', '.0', regex=True)\n",
    "df_copy['age'] = df_copy['age'].str.replace(r'\\.0+$', '', regex=True)  \n",
    "df_copy[\"age\"] = df_copy[\"age\"].replace([\"Unknown\", \"Nan\"], np.nan)\n",
    "df_copy['age'] = df_copy['age'].replace(\"Thirty\", \"30\")\n",
    "\n",
    "df_copy['age'] = df_copy['age'].astype(\"float\")\n",
    "df_copy.loc[(df_copy[\"age\"] < 0) | (df_copy[\"age\"] > 100), \"age\"] = np.nan\n",
    "df_copy['age'] = df_copy['age'].round().astype(\"Int64\")\n",
    "df_copy[\"age\"].unique()"
   ]
  },
  {
   "cell_type": "code",
   "execution_count": 344,
   "id": "91a32e8b",
   "metadata": {},
   "outputs": [
    {
     "data": {
      "text/plain": [
       "array([ 92.26      ,  82.21      , 103.61      , ..., 259.69283478,\n",
       "       265.6701202 , 100.15      ], shape=(4060,))"
      ]
     },
     "execution_count": 344,
     "metadata": {},
     "output_type": "execute_result"
    }
   ],
   "source": [
    "#df_copy[\"avg_glucose_level\"].unique()\n",
    "\n",
    "invalid_values = [\"Normal\", \"High\"]\n",
    "df_copy['avg_glucose_level'] = df_copy['avg_glucose_level'].replace(invalid_values, np.nan)\n",
    "df_copy['avg_glucose_level'] = df_copy['avg_glucose_level'].str.replace(r'\\s*mg/dl\\s*', '', regex=True, case=False)\n",
    "\n",
    "df_copy[\"avg_glucose_level\"] = df_copy[\"avg_glucose_level\"].astype(\"float\")\n",
    "df_copy.loc[(df_copy[\"avg_glucose_level\"] < 50.0) | (df_copy[\"avg_glucose_level\"] > 600.0), \"avg_glucose_level\"] = np.nan\n",
    "df_copy[\"avg_glucose_level\"].unique()"
   ]
  },
  {
   "cell_type": "code",
   "execution_count": 345,
   "id": "54aa05e3",
   "metadata": {},
   "outputs": [
    {
     "data": {
      "text/plain": [
       "array([17.1, 26. , 31.4, 20.1,  nan, 33.3, 39.9, 17.6, 31.3, 50.1, 29.4,\n",
       "       27.3, 37.3, 29.3, 30.3, 28. , 25.3, 18.6, 31.9, 22.7, 32.2, 21.3,\n",
       "       34.7, 25.5, 25.8, 32.4, 16.2, 29.8, 18.9, 28.5, 23.6, 22.2, 33.5,\n",
       "       25.1, 45.9, 30. , 34.8, 31.5, 26.9, 24.1, 30.1, 23.2, 30.8, 36.4,\n",
       "       26.3, 27.7, 31.8, 25.6, 26.8, 41.6, 29.5, 39.1, 35. , 28.7, 17.7,\n",
       "       40. , 18.2, 30.4, 41.8, 15.1, 26.6, 27.9, 41.1, 18.3, 23.1, 37.6,\n",
       "       31.1, 21.9, 34.3, 16.3, 38.3, 25.9, 23.9, 14.1, 18.1, 24. , 38.6,\n",
       "       29.1, 23.8, 26.2, 40.3, 42.4, 18.5, 24.3, 21.2, 28.4, 32.5, 31.6,\n",
       "       39.6, 21.4, 22.8, 20.3, 35.1, 54. , 24.7, 18. , 42.2, 25.4, 21.8,\n",
       "       35.4, 30.9, 17. , 43. , 26.1, 30.7, 36.6, 29. , 23. , 23.3, 21.7,\n",
       "       44.1, 27.6, 25.2, 41.9, 38.1, 24.2, 17.9, 19.2, 48.2, 32.1, 35.8,\n",
       "       29.6, 32.7, 41.2, 40.5, 16. , 33.2, 22.1, 34.5, 27.8, 19.6, 45.4,\n",
       "       19.7, 36.7, 48.3, 19.8, 21. , 52.3, 32.3, 28.8, 17.4, 36.1, 32.8,\n",
       "       30.5, 32.9, 16.1, 23.5, 49.8, 34.1, 29.9, 33.1, 27.4, 19.9, 35.9,\n",
       "       35.7, 37.8, 16.6, 27.1, 33.6, 14.3, 25.7, 27.5, 45.3, 23.4, 34.9,\n",
       "       21.6, 35.6, 44.7, 26.5, 28.6, 24.8, 28.3, 24.6, 42.6, 31. , 36.5,\n",
       "       35.5, 15.5, 38. , 26.7, 44.4, 21.1, 34.4, 14.4, 38.9, 22.3, 20. ,\n",
       "       27.2, 16.9, 15.9, 28.1, 29.2, 31.2, 32. , 24.4, 40.8, 28.2, 33.4,\n",
       "       33.7, 16.8, 15.7, 30.2, 55.1, 44.5, 35.2, 17.2, 46. , 24.9, 22.9,\n",
       "       28.9, 53.8, 25. , 15.6, 20.9, 57.9, 22.5, 47.8, 42.9, 19.4, 38.7,\n",
       "       33.8, 24.5, 40.2, 36.8, 37.9, 21.5, 22.6, 20.2, 40.4, 36. , 34.6,\n",
       "       44.3, 49.9, 20.4, 48.8, 35.3, 37.1, 36.9, 54.7, 26.4, 39.5, 37.5,\n",
       "       43.3, 23.7, 22. , 18.8, 20.5, 20.7, 27. , 36.3, 15.2, 38.5, 13.3,\n",
       "       22.4, 17.8, 16.7, 33.9, 20.6, 30.6, 43.8, 32.6, 33. , 43.2, 20.8,\n",
       "       52.7, 39.4, 13.8, 34. , 40.1, 57.3, 39. , 16.5, 46.9, 42.7, 44. ,\n",
       "       18.4, 19.5, 39.7, 46.2, 47.1, 37.4, 43.9, 29.7, 34.2, 31.7, 39.2,\n",
       "       15.4, 39.3, 50.5, 49.2, 38.4, 41.7, 43.4, 15.8, 42. , 41.4, 43.1,\n",
       "       49.4, 44.2, 59.7, 41.5, 43.6, 14.5, 51.8, 38.2, 16.4, 37.7, 17.5,\n",
       "       37.2, 54.8, 41. , 57.2, 45.2, 54.3, 51.9, 49.5, 56.6, 40.6, 49.3,\n",
       "       50.2, 52.9, 19.1, 46.3, 36.2, 17.3, 12. , 14.6, 45.5, 37. , 19.3,\n",
       "       52.8, 15.3, 46.5, 41.3, 53.4, 50.6, 18.7, 38.8, 45. , 45.7, 14. ,\n",
       "       43.7, 42.3, 47.6, 42.1, 47.3, 42.5, 48.9, 12.8, 19. , 39.8, 44.8,\n",
       "       52.5, 48.5, 14.2, 45.1, 55. , 13.5, 55.5, 14.8, 40.9, 46.8, 54.2,\n",
       "       13.4, 48.1, 51. , 54.1, 42.8, 57.7, 54.6, 55.7, 14.9, 48.7, 50.3,\n",
       "       44.6, 48. , 53.5, 47.5, 13. , 46.1, 40.7, 44.9, 13.2, 13.7, 50.9,\n",
       "       55.9, 45.6, 50.4, 56. , 48.4, 45.8, 57.5, 47.9, 15. , 50.8, 47.4,\n",
       "       13.9, 12.3, 53.9, 55.2, 56.1, 46.4, 51.5, 51.7, 58.1])"
      ]
     },
     "execution_count": 345,
     "metadata": {},
     "output_type": "execute_result"
    }
   ],
   "source": [
    "df_copy[\"bmi\"].unique()\n",
    "\n",
    "invalid_values = [\"Normal\", \"Obese\", \"Unknown\", \"N/a\", \"Nan\", \"\"] \n",
    "df_copy['bmi'] = df_copy['bmi'].replace(invalid_values, np.nan)\n",
    "df_copy['bmi'] = df_copy['bmi'].str.replace(r'\\s*kg/m²\\s*', '', regex=True, case=False)\n",
    "\n",
    "df_copy[\"bmi\"] = pd.to_numeric(df_copy['bmi'], errors='coerce')\n",
    "df_copy.loc[(df_copy[\"bmi\"] < 12) | (df_copy[\"bmi\"] > 60), \"bmi\"] = np.nan\n",
    "df_copy[\"bmi\"] = df_copy[\"bmi\"].round(1)\n",
    "\n",
    "df_copy[\"bmi\"].unique()"
   ]
  },
  {
   "cell_type": "markdown",
   "id": "1be2b15f",
   "metadata": {},
   "source": [
    "The numeric columns contained inconsistent formatting, irregular decimal points, irrelevant descriptors and string values, which were removed during the cleaning process. After standardizing the formats, the values were typecasted into appropriate numeric types. Invalid entries and extreme outliers were then converted to nan for consistency.\n",
    "\n",
    "`age`: Decimal points with trailing zeros(\"0.0\" and \".0\") were removed from age entries. String representations of numeric values were converted to their numerical forms (\"Thirty\" -> \"30\"), and missing values (\"Unknown\", \"Nan\") were converted to nan. Invalid age values like below 0 and above 100 were also replaced with nan and the subsequent data values were rounded off before converted to the integer subtype.\n",
    "\n",
    "`avg_glucose_level`: Units of measurement (mg/dl) were removed from the entries to only retain numeric data. String values that do not accurately pinpoint a clinical measurement (\"Normal\", \"High\") were replaced with nan, as well as clinically invalid glucose measurements (below 50 and above 600). The cleaned values were then converted to the float subtype.\n",
    "\n",
    "`bmi`: Units of measurement (kg/m²) were removed form the entries. String values do not provide a numerical value (\"Normal\", \"Obese\") were replaced with nan, as well as inplausible BMI measurements (below 12 and above 60). The remaining BMI values were then converted to the float subtype, rounded off to 1 decimal place."
   ]
  },
  {
   "cell_type": "markdown",
   "id": "6fde137d",
   "metadata": {},
   "source": [
    "### Addressing Missing Values"
   ]
  },
  {
   "cell_type": "code",
   "execution_count": 346,
   "id": "9cbe5ced",
   "metadata": {},
   "outputs": [
    {
     "name": "stdout",
     "output_type": "stream",
     "text": [
      "                   Num_Missing  Prop_Missing\n",
      "bmi                        761         12.62\n",
      "avg_glucose_level          419          6.95\n",
      "heart_disease              332          5.51\n",
      "hypertension               329          5.46\n",
      "stroke                     319          5.29\n",
      "age                        298          4.94\n",
      "gender                     216          3.58\n",
      "Residence_type             210          3.48\n",
      "ever_married               175          2.90\n",
      "work_type                  122          2.02\n",
      "id                           0          0.00\n",
      "smoking_status               0          0.00\n"
     ]
    }
   ],
   "source": [
    "missing_values = pd.DataFrame({\n",
    "    \"Num_Missing\": df_copy.isnull().sum(),\n",
    "    \"Prop_Missing\": round(df_copy.isnull().sum() / len(df_copy) * 100,2)\n",
    "})\n",
    "\n",
    "print(missing_values.sort_values(\"Prop_Missing\", ascending= False))"
   ]
  },
  {
   "cell_type": "code",
   "execution_count": 347,
   "id": "f8ceae9b",
   "metadata": {},
   "outputs": [
    {
     "name": "stdout",
     "output_type": "stream",
     "text": [
      "Imputed missing values for column: bmi\n",
      "Imputed missing values for column: avg_glucose_level\n",
      "Imputed missing values for column: heart_disease\n",
      "Imputed missing values for column: hypertension\n"
     ]
    }
   ],
   "source": [
    "# Dropping Missing Values\n",
    "cols_to_drop = ['work_type', 'ever_married', 'Residence_type', 'gender', 'age', 'stroke']\n",
    "df_copy.dropna(subset = cols_to_drop, inplace= True)\n",
    "\n",
    "# Imputing Missing Values\n",
    "impute_by_median(df_copy, \"bmi\", \"avg_glucose_level\")\n",
    "impute_by_mode(df_copy, \"heart_disease\", \"hypertension\")"
   ]
  },
  {
   "cell_type": "markdown",
   "id": "afe07604",
   "metadata": {},
   "source": [
    "The missing values in `work_type`, `ever_married`, `Residence_type`, `gender` and `age` columns were dropped as they only accounted for less than 5% of the entire dataset and would not lead to significant loss of data. The missing values from the `stroke` column were dropped, as imputation of the target variable might introduce bias in the modelling prediction.\n",
    "\n",
    "For the missing values in the `bmi` and `avg_glucose_level` columns, they were imputed by filling in the median value of these columns. The missing values in the `heart_disease` and `hypertension` columns were imputed with the modal value in these columns, which is appropriate for binary categorical variables."
   ]
  },
  {
   "cell_type": "markdown",
   "id": "e0f03076",
   "metadata": {},
   "source": [
    "### Final Validation and Quality Check"
   ]
  },
  {
   "cell_type": "code",
   "execution_count": 348,
   "id": "f79121fa",
   "metadata": {},
   "outputs": [
    {
     "name": "stdout",
     "output_type": "stream",
     "text": [
      "                   Num_Missing  Prop_Missing\n",
      "id                           0           0.0\n",
      "gender                       0           0.0\n",
      "age                          0           0.0\n",
      "hypertension                 0           0.0\n",
      "heart_disease                0           0.0\n",
      "ever_married                 0           0.0\n",
      "work_type                    0           0.0\n",
      "Residence_type               0           0.0\n",
      "avg_glucose_level            0           0.0\n",
      "bmi                          0           0.0\n",
      "smoking_status               0           0.0\n",
      "stroke                       0           0.0\n"
     ]
    }
   ],
   "source": [
    "missing_values = pd.DataFrame({\n",
    "    \"Num_Missing\": df_copy.isnull().sum(),\n",
    "    \"Prop_Missing\": round(df_copy.isnull().sum() / len(df_copy) * 100,2)\n",
    "})\n",
    "\n",
    "print(missing_values.sort_values(\"Prop_Missing\", ascending= False))"
   ]
  },
  {
   "cell_type": "code",
   "execution_count": 349,
   "id": "16bc4211",
   "metadata": {},
   "outputs": [
    {
     "name": "stdout",
     "output_type": "stream",
     "text": [
      "<class 'pandas.core.frame.DataFrame'>\n",
      "Index: 5527 entries, 0 to 6028\n",
      "Data columns (total 12 columns):\n",
      " #   Column             Non-Null Count  Dtype   \n",
      "---  ------             --------------  -----   \n",
      " 0   id                 5527 non-null   object  \n",
      " 1   gender             5527 non-null   category\n",
      " 2   age                5527 non-null   Int64   \n",
      " 3   hypertension       5527 non-null   category\n",
      " 4   heart_disease      5527 non-null   category\n",
      " 5   ever_married       5527 non-null   category\n",
      " 6   work_type          5527 non-null   category\n",
      " 7   Residence_type     5527 non-null   category\n",
      " 8   avg_glucose_level  5527 non-null   float64 \n",
      " 9   bmi                5527 non-null   float64 \n",
      " 10  smoking_status     5527 non-null   category\n",
      " 11  stroke             5527 non-null   category\n",
      "dtypes: Int64(1), category(8), float64(2), object(1)\n",
      "memory usage: 265.6+ KB\n"
     ]
    }
   ],
   "source": [
    "df_copy.info()"
   ]
  },
  {
   "cell_type": "code",
   "execution_count": 350,
   "id": "a45225ca",
   "metadata": {},
   "outputs": [
    {
     "data": {
      "text/html": [
       "<div>\n",
       "<style scoped>\n",
       "    .dataframe tbody tr th:only-of-type {\n",
       "        vertical-align: middle;\n",
       "    }\n",
       "\n",
       "    .dataframe tbody tr th {\n",
       "        vertical-align: top;\n",
       "    }\n",
       "\n",
       "    .dataframe thead th {\n",
       "        text-align: right;\n",
       "    }\n",
       "</style>\n",
       "<table border=\"1\" class=\"dataframe\">\n",
       "  <thead>\n",
       "    <tr style=\"text-align: right;\">\n",
       "      <th></th>\n",
       "      <th>age</th>\n",
       "      <th>avg_glucose_level</th>\n",
       "      <th>bmi</th>\n",
       "    </tr>\n",
       "  </thead>\n",
       "  <tbody>\n",
       "    <tr>\n",
       "      <th>count</th>\n",
       "      <td>5527.0</td>\n",
       "      <td>5527.000000</td>\n",
       "      <td>5527.000000</td>\n",
       "    </tr>\n",
       "    <tr>\n",
       "      <th>mean</th>\n",
       "      <td>43.123394</td>\n",
       "      <td>106.186945</td>\n",
       "      <td>28.797539</td>\n",
       "    </tr>\n",
       "    <tr>\n",
       "      <th>std</th>\n",
       "      <td>22.612808</td>\n",
       "      <td>45.315953</td>\n",
       "      <td>7.327991</td>\n",
       "    </tr>\n",
       "    <tr>\n",
       "      <th>min</th>\n",
       "      <td>0.0</td>\n",
       "      <td>55.120000</td>\n",
       "      <td>12.000000</td>\n",
       "    </tr>\n",
       "    <tr>\n",
       "      <th>25%</th>\n",
       "      <td>25.0</td>\n",
       "      <td>77.190000</td>\n",
       "      <td>23.900000</td>\n",
       "    </tr>\n",
       "    <tr>\n",
       "      <th>50%</th>\n",
       "      <td>45.0</td>\n",
       "      <td>91.865000</td>\n",
       "      <td>28.100000</td>\n",
       "    </tr>\n",
       "    <tr>\n",
       "      <th>75%</th>\n",
       "      <td>61.0</td>\n",
       "      <td>114.285000</td>\n",
       "      <td>32.600000</td>\n",
       "    </tr>\n",
       "    <tr>\n",
       "      <th>max</th>\n",
       "      <td>82.0</td>\n",
       "      <td>271.740000</td>\n",
       "      <td>59.700000</td>\n",
       "    </tr>\n",
       "  </tbody>\n",
       "</table>\n",
       "</div>"
      ],
      "text/plain": [
       "             age  avg_glucose_level          bmi\n",
       "count     5527.0        5527.000000  5527.000000\n",
       "mean   43.123394         106.186945    28.797539\n",
       "std    22.612808          45.315953     7.327991\n",
       "min          0.0          55.120000    12.000000\n",
       "25%         25.0          77.190000    23.900000\n",
       "50%         45.0          91.865000    28.100000\n",
       "75%         61.0         114.285000    32.600000\n",
       "max         82.0         271.740000    59.700000"
      ]
     },
     "execution_count": 350,
     "metadata": {},
     "output_type": "execute_result"
    }
   ],
   "source": [
    "df_copy.describe()"
   ]
  },
  {
   "cell_type": "code",
   "execution_count": 351,
   "id": "88b1c117",
   "metadata": {},
   "outputs": [],
   "source": [
    "#Exporting Cleaned CSV\n",
    "\n",
    "df_cleaned = df_copy\n",
    "\n",
    "os.makedirs(\"../data\", exist_ok= True)\n",
    "df_cleaned.to_csv(\"../data/stroke_dataset_cleaned.csv\")"
   ]
  },
  {
   "cell_type": "markdown",
   "id": "28adcf63",
   "metadata": {},
   "source": [
    "## 6. Target Variable Analysis"
   ]
  },
  {
   "cell_type": "code",
   "execution_count": 352,
   "id": "3e79ba76",
   "metadata": {},
   "outputs": [
    {
     "data": {
      "image/png": "[encoded data removed]",
      "text/plain": [
       "<Figure size 640x480 with 1 Axes>"
      ]
     },
     "metadata": {},
     "output_type": "display_data"
    },
    {
     "name": "stdout",
     "output_type": "stream",
     "text": [
      "        Number of Values  Proportion of Values\n",
      "stroke                                        \n",
      "0                   5259             95.151077\n",
      "1                    268              4.848923\n"
     ]
    }
   ],
   "source": [
    "stroke_values = pd.DataFrame({\n",
    "    \"Number of Values\": df_cleaned[\"stroke\"].value_counts(),\n",
    "    \"Proportion of Values\": df_cleaned[\"stroke\"].value_counts(normalize= True) * 100\n",
    "})\n",
    "\n",
    "sns.countplot(data = df_cleaned, x = \"stroke\")\n",
    "plt.title(\"Patient's Stroke Status\")\n",
    "plt.show()\n",
    "\n",
    "print(stroke_values)"
   ]
  },
  {
   "cell_type": "markdown",
   "id": "ba3a9ae2",
   "metadata": {},
   "source": [
    "Analysis of the distribution of values in the `stroke` column shows that there is a significant class imbalance (95% no stroke vs 5% with stroke). Therefore, there is a need to use a stratified split to ensure an equal distribution of both classes amongst the training and test set during the modelling process. Additionally, accuracy would not be a good metric to evaluate the model with such a significant amount of class imbalance, and other metrics (F1, Precision/Recall or ROC-AUC)."
   ]
  },
  {
   "cell_type": "markdown",
   "id": "3e2ae24d",
   "metadata": {},
   "source": [
    "## 7. Univariate Analysis for Features"
   ]
  },
  {
   "cell_type": "markdown",
   "id": "86eee8c9",
   "metadata": {},
   "source": [
    "### Numerical Features"
   ]
  },
  {
   "cell_type": "code",
   "execution_count": 353,
   "id": "5025522e",
   "metadata": {},
   "outputs": [
    {
     "data": {
      "image/png": "[encoded data removed]",
      "text/plain": [
       "<Figure size 1500x500 with 3 Axes>"
      ]
     },
     "metadata": {},
     "output_type": "display_data"
    }
   ],
   "source": [
    "numerical_cols = [\"avg_glucose_level\", \"bmi\", \"age\"]\n",
    "\n",
    "fig, axes = plt.subplots(1,3,figsize = (15,5))\n",
    "\n",
    "for i, col in enumerate(numerical_cols):\n",
    "    sns.histplot(data = df_cleaned, x= col, ax = axes[i])\n",
    "    axes[i].set_title(f\"Histogram of {col}\")\n",
    "\n",
    "plt.show()"
   ]
  },
  {
   "cell_type": "markdown",
   "id": "93809a10",
   "metadata": {},
   "source": [
    "**Distribution Analysis:**\n",
    "\n",
    "`avg_glucose_level`: The distribution is right-skewed, with a majority of the values concentration between 70-150. There appears to be a secondary concentration around 200-250, which indicates a subgroup with diabetes. It would be worth considering to apply a log-transformation or robust scaling to handle the skewed data during model training.\n",
    "\n",
    "`bmi`: The distribution appears approximately normal, centered around 28-30. There is a large spike in frequency at 29, which corresponds to the imputed median values used to fill missing values. \n",
    "\n",
    "`age`: The distribution shows a broad spread across various age groups, with peaks at around 0-4 and 45-65 years old. The dataset also appears more skewed towards older adults."
   ]
  },
  {
   "cell_type": "code",
   "execution_count": 354,
   "id": "5ca04c0e",
   "metadata": {},
   "outputs": [
    {
     "data": {
      "image/png": "[encoded data removed]",
      "text/plain": [
       "<Figure size 1500x500 with 3 Axes>"
      ]
     },
     "metadata": {},
     "output_type": "display_data"
    }
   ],
   "source": [
    "numerical_cols = [\"avg_glucose_level\", \"bmi\", \"age\"]\n",
    "\n",
    "fig, axes = plt.subplots(1,3,figsize = (15,5))\n",
    "\n",
    "for i, col in enumerate(numerical_cols):\n",
    "    sns.boxplot(data = df_cleaned, y = col, ax = axes[i])\n",
    "    axes[i].set_title(f\"Boxplot of {col}\")\n",
    "\n",
    "plt.show()"
   ]
  },
  {
   "cell_type": "code",
   "execution_count": 355,
   "id": "79e375ab",
   "metadata": {},
   "outputs": [
    {
     "name": "stdout",
     "output_type": "stream",
     "text": [
      "{'avg_glucose_level': {'num_outliers': 677, 'proportion_outliers': '12.25%'}, 'bmi': {'num_outliers': 135, 'proportion_outliers': '2.44%'}, 'age': {'num_outliers': 0, 'proportion_outliers': '0.0%'}}\n"
     ]
    }
   ],
   "source": [
    "num_outliers = {}\n",
    "\n",
    "for col in numerical_cols:\n",
    "    Q1 = df_cleaned[col].quantile(0.25)\n",
    "    Q3 = df_cleaned[col].quantile(0.75)\n",
    "    iqr = Q3 - Q1\n",
    "\n",
    "    lower_bound = Q1 - 1.5 * iqr\n",
    "    upper_bound = Q3 + 1.5 * iqr\n",
    "\n",
    "    outliers = df_cleaned[(df_cleaned[col] < lower_bound) | (df_cleaned[col] > upper_bound)]\n",
    "    num_outliers[col] = {\"num_outliers\": len(outliers), \"proportion_outliers\": str(round(len(outliers) / len(df_cleaned) * 100, 2)) + \"%\"}\n",
    "\n",
    "print(num_outliers)"
   ]
  },
  {
   "cell_type": "markdown",
   "id": "de1b275d",
   "metadata": {},
   "source": [
    "**Outlier Analysis:**\n",
    "\n",
    "The boxplot of numeric values found a large number of outliers in both `avg_glucose_level` and `bmi` columns. In particular, there are 677 and 135 outliers in the `avg_glucose_level` and `bmi` columns respectively. However, these outliers are kept in the dataset in order to analyse how diabetes and obesity would influence the likelihood of a patient having stroke. No outliers were found in the `Age` column.\n",
    "\n",
    "During the scaling process, it would be more ideal to use a RobustScaler as opposed to a StandardScaler as it would be less sensitive to outliers."
   ]
  },
  {
   "cell_type": "markdown",
   "id": "f6efb4ac",
   "metadata": {},
   "source": [
    "### Categorical Features"
   ]
  },
  {
   "cell_type": "code",
   "execution_count": 356,
   "id": "61264a42",
   "metadata": {},
   "outputs": [
    {
     "data": {
      "image/png": "[encoded data removed]",
      "text/plain": [
       "<Figure size 1500x1600 with 8 Axes>"
      ]
     },
     "metadata": {},
     "output_type": "display_data"
    }
   ],
   "source": [
    "categorical_cols = [col for col in df_cleaned.columns if col not in numerical_cols]\n",
    "categorical_cols.remove(\"id\")\n",
    "\n",
    "fig, axes = plt.subplots(4,2, figsize = (15,16))\n",
    "axes = axes.flatten()\n",
    "\n",
    "for i, col in enumerate(categorical_cols):\n",
    "    if i < len(axes): \n",
    "        sns.countplot(data=df_cleaned, x=col, ax=axes[i], stat = \"percent\")\n",
    "        axes[i].set_title(f\"Distribution of {col} (%)\")\n",
    "        axes[i].set_ylabel('Percentage')\n",
    "\n",
    "for j in range(len(categorical_cols), len(axes)):\n",
    "    axes[j].set_visible(False)\n",
    "\n",
    "plt.tight_layout()\n",
    "plt.show()\n"
   ]
  },
  {
   "cell_type": "markdown",
   "id": "a27ce3c2",
   "metadata": {},
   "source": [
    "**Distribution Analysis:**\n",
    "\n",
    "- Balanced Categories: The distributions in the `smoking_status`, `ever_married` & `Residence_type` columns are well-balanced across their respective categories, indicating a fair representation for each group.\n",
    "\n",
    "- Severely Imbalanced Categories: The `stroke`, `hypertension` and `heart_disease` columns have a significant amount of imbalance, with the positive class (\"1\") accounting for less than 10% of the data. This class imbalance might impact model performance and should be addressed during training either through resampling or class weighting. \n",
    "\n",
    "- Notable Imbalances in Categories: In the `work_type` category, the \"Never_worked\" group has very few records compared to other employment types. In `gender`, the \"Other\" category is significantly lower compared to \"Male\" and \"Female\", and may need to be excluded during the modelling process."
   ]
  },
  {
   "cell_type": "markdown",
   "id": "2fbed30e",
   "metadata": {},
   "source": [
    "## 8. Bivariate Analysis of Features and Target"
   ]
  },
  {
   "cell_type": "markdown",
   "id": "c48b17df",
   "metadata": {},
   "source": [
    "### Numerical Features and Target"
   ]
  },
  {
   "cell_type": "code",
   "execution_count": 357,
   "id": "4f58a227",
   "metadata": {},
   "outputs": [
    {
     "data": {
      "image/png": "[encoded data removed]",
      "text/plain": [
       "<Figure size 1500x500 with 3 Axes>"
      ]
     },
     "metadata": {},
     "output_type": "display_data"
    }
   ],
   "source": [
    "fig, axes = plt.subplots(1,3,figsize = (15,5))\n",
    "\n",
    "for i, col in enumerate(numerical_cols):\n",
    "    sns.boxplot(data = df_cleaned, x = \"stroke\", y= col, ax = axes[i])\n",
    "    axes[i].set_title(f\"Box Plot of {col}\")\n",
    "\n",
    "plt.show()"
   ]
  },
  {
   "cell_type": "markdown",
   "id": "9deae4cf",
   "metadata": {},
   "source": [
    "**Box Plot Analysis:**\n",
    "\n",
    "`avg_glucose_level`: Patients without stroke have a median blood glucose level of about 90 mg/dl with an IQR of about 30. Stroke patients have a significantly higher median blood glucose level of 110 mg/dl, with an IQR of about 110. Additionally, there are a great number of outlier blood glucose levels in patients without stroke, whereas none are seen in patients with stroke. This indicates that stroke patients have significantly higher blood glucose levels with larger variation, suggesting that pre-diabetes and diabetes might be correlated to stroke risk.\n",
    "\n",
    "`bmi`: Patients with and without stroke have approximately a median BMI of 28 kg/m2, with very similar distributions and outliers in the high BMI range. This indicates that BMI might have little association with stroke risk.\n",
    "\n",
    "`age`: The median age for patients without stroke is about 42, with an IQR of approximately 40. In patients with stroke, the median age is substantially higher at about 70 years old with an IQR of 20. Furthermore, the ages of patients without stroke follows a rough normal distribution, whereas those with stroke follow a left-skewed distribution with a few outliers in younger ages. This indicates that the risk of stroke is more constrained towards older patients."
   ]
  },
  {
   "cell_type": "markdown",
   "id": "c2348b87",
   "metadata": {},
   "source": [
    "### Categorical Features and Target"
   ]
  },
  {
   "cell_type": "code",
   "execution_count": 358,
   "id": "f4731f52",
   "metadata": {},
   "outputs": [
    {
     "name": "stdout",
     "output_type": "stream",
     "text": [
      "Chi-square Association Test for gender: \n",
      " Chi-Square: 5.101, p-value: 0.078052 \n",
      "\n",
      "Chi-square Association Test for hypertension: \n",
      " Chi-Square: 4.867, p-value: 0.027374 \n",
      "\n",
      "Chi-square Association Test for heart_disease: \n",
      " Chi-Square: 7.004, p-value: 0.008131 \n",
      "\n",
      "Chi-square Association Test for ever_married: \n",
      " Chi-Square: 1.862, p-value: 0.172338 \n",
      "\n",
      "Chi-square Association Test for work_type: \n",
      " Chi-Square: 13.771, p-value: 0.008062 \n",
      "\n",
      "Chi-square Association Test for Residence_type: \n",
      " Chi-Square: 0.000, p-value: 1.000000 \n",
      "\n",
      "Chi-square Association Test for smoking_status: \n",
      " Chi-Square: 2.304, p-value: 0.511786 \n",
      "\n"
     ]
    }
   ],
   "source": [
    "categorical_cols.remove(\"stroke\")\n",
    "\n",
    "for col in categorical_cols:\n",
    "    crosstab = pd.crosstab(df_cleaned[col], df_cleaned[\"stroke\"], normalize = 'index') * 100\n",
    "    \n",
    "    chi2, p_value, dof, expected = chi2_contingency(crosstab)\n",
    "    print(f\"Chi-square Association Test for {col}: \\n Chi-Square: {chi2:.3f}, p-value: {p_value:.6f} \\n\")"
   ]
  },
  {
   "cell_type": "markdown",
   "id": "fc82fa16",
   "metadata": {},
   "source": [
    "**Statistical Test Analysis:**\n",
    "\n",
    "Chi-square tests of independence were conducted to examine the association between categorical features and stroke occurence. The significance level was set at 0.05.\n",
    "\n",
    "The results of the Chi-square test show that occupational factors (`work_type`) and preexisting medical conditions (`hypertension` and `heart_disease`) are primary categorical predictors for stroke risk as their p-values are below the significance level (0.008062, 0.027374, 0.008131 vs 0.05). On the other hand, demographic factors (`gender`, `ever_married`, `Residence_type`) and lifestyle factors (`smoking_status`)  show no direct association to stroke."
   ]
  },
  {
   "cell_type": "markdown",
   "id": "bbb16aeb",
   "metadata": {},
   "source": [
    "## 9. Bivariate Analysis amongst Features"
   ]
  },
  {
   "cell_type": "markdown",
   "id": "938f3218",
   "metadata": {},
   "source": [
    "### Numerical Variables"
   ]
  },
  {
   "cell_type": "code",
   "execution_count": 359,
   "id": "9d268e31",
   "metadata": {},
   "outputs": [
    {
     "data": {
      "image/png": "[encoded data removed]",
      "text/plain": [
       "<Figure size 640x480 with 2 Axes>"
      ]
     },
     "metadata": {},
     "output_type": "display_data"
    }
   ],
   "source": [
    "numeric_df = df_cleaned[numerical_cols]\n",
    "\n",
    "sns.heatmap(numeric_df.corr(), annot = True)\n",
    "plt.title(\"Feature-Feature Correlation amongst Numeric Variables\")\n",
    "plt.show()"
   ]
  },
  {
   "cell_type": "markdown",
   "id": "5926cdd5",
   "metadata": {},
   "source": [
    "The heatmap of correlation amongst the numeric variables (`age`, `bmi`, `avg_glucose_level`) has low Pearson coefficient values ranging from 0.18-0.33, indicating that these features are largely independent of each other. This analysis confirms the absence of multicollinearity among numerical preditors, and that there are no redundant features included in the model which might degrade performance and interpretability."
   ]
  },
  {
   "cell_type": "markdown",
   "id": "929a817a",
   "metadata": {},
   "source": [
    "### Categorical Variables"
   ]
  },
  {
   "cell_type": "code",
   "execution_count": 360,
   "id": "2e712384",
   "metadata": {},
   "outputs": [
    {
     "name": "stdout",
     "output_type": "stream",
     "text": [
      "         Feature_1       Feature_2  p_value\n",
      "10    hypertension  smoking_status   0.0000\n",
      "1           gender   heart_disease   0.0000\n",
      "3           gender       work_type   0.0000\n",
      "17    ever_married  smoking_status   0.0000\n",
      "5           gender  smoking_status   0.0000\n",
      "6     hypertension   heart_disease   0.0000\n",
      "7     hypertension    ever_married   0.0000\n",
      "8     hypertension       work_type   0.0000\n",
      "15    ever_married       work_type   0.0000\n",
      "19       work_type  smoking_status   0.0000\n",
      "11   heart_disease    ever_married   0.0000\n",
      "12   heart_disease       work_type   0.0000\n",
      "14   heart_disease  smoking_status   0.0000\n",
      "2           gender    ever_married   0.0518\n",
      "20  Residence_type  smoking_status   0.1022\n",
      "0           gender    hypertension   0.2889\n",
      "18       work_type  Residence_type   0.5098\n",
      "4           gender  Residence_type   0.6177\n",
      "13   heart_disease  Residence_type   0.6678\n",
      "16    ever_married  Residence_type   0.6870\n",
      "9     hypertension  Residence_type   0.8132\n"
     ]
    }
   ],
   "source": [
    "relationship_results = []\n",
    "feature_pairs = list(combinations(categorical_cols,2))\n",
    "\n",
    "for feature1, feature2 in feature_pairs:\n",
    "    chi2_table = pd.crosstab(df_cleaned[feature1], df_cleaned[feature2])\n",
    "    chi2_stat, p_value, dof, expected = chi2_contingency(chi2_table)\n",
    "\n",
    "    relationship_results.append({\"Feature_1\": feature1, \"Feature_2\": feature2, \"p_value\": float(round(p_value,4))})\n",
    "\n",
    "relationship_results = pd.DataFrame(relationship_results)\n",
    "print(relationship_results.sort_values(\"p_value\"))"
   ]
  },
  {
   "cell_type": "markdown",
   "id": "91a3ebc2",
   "metadata": {},
   "source": [
    "A Chi-Square test of independence was conducted between pairs of categorical features, with a significance level set at 0.05.\n",
    "\n",
    "There seems to be a health-related cluster between the pairings of these variables (`hypertension`, `heart_disease`, `smoking_status`) as their p-values were < 0.0001, indicating that there is severe multicollinearity between these features.\n",
    "\n",
    "There is also a cluster between demographics and lifestyle (`gender` & `heart_disease`, `gender` & `work_type`, `gender` & `smoking_status`, `ever_married` & `smoking_status` and `ever_married` & `work_type`) as their p-values were also < 0.0001. This means that gender has an influence on health outcomes, career choices and lifestyle habits. Marital status also connects to lifestyle and career patterns. Although the `gender` and `ever_married` columns have not shown any direct association to stroke risk in feature-target analysis, they seem to have significant associations with multiple features that have been shown to be a key predictor of stroke.\n",
    "\n",
    "Additionally, the `Residence_type` feature seems to have no association with other features as their p-values were above the significance level, confirming its lack of predictive value identified in the feature-target analysis."
   ]
  },
  {
   "cell_type": "markdown",
   "id": "766edb64",
   "metadata": {},
   "source": [
    "## 10. Feature Engineering and Selection"
   ]
  },
  {
   "cell_type": "code",
   "execution_count": 361,
   "id": "0322704b",
   "metadata": {},
   "outputs": [
    {
     "data": {
      "text/html": [
       "<div>\n",
       "<style scoped>\n",
       "    .dataframe tbody tr th:only-of-type {\n",
       "        vertical-align: middle;\n",
       "    }\n",
       "\n",
       "    .dataframe tbody tr th {\n",
       "        vertical-align: top;\n",
       "    }\n",
       "\n",
       "    .dataframe thead th {\n",
       "        text-align: right;\n",
       "    }\n",
       "</style>\n",
       "<table border=\"1\" class=\"dataframe\">\n",
       "  <thead>\n",
       "    <tr style=\"text-align: right;\">\n",
       "      <th></th>\n",
       "      <th>age</th>\n",
       "      <th>hypertension</th>\n",
       "      <th>heart_disease</th>\n",
       "      <th>work_type</th>\n",
       "      <th>avg_glucose_level</th>\n",
       "      <th>bmi</th>\n",
       "      <th>smoking_status</th>\n",
       "      <th>stroke</th>\n",
       "    </tr>\n",
       "  </thead>\n",
       "  <tbody>\n",
       "    <tr>\n",
       "      <th>0</th>\n",
       "      <td>23</td>\n",
       "      <td>0</td>\n",
       "      <td>0</td>\n",
       "      <td>Private</td>\n",
       "      <td>92.26</td>\n",
       "      <td>17.1</td>\n",
       "      <td>Unknown</td>\n",
       "      <td>0</td>\n",
       "    </tr>\n",
       "    <tr>\n",
       "      <th>1</th>\n",
       "      <td>82</td>\n",
       "      <td>0</td>\n",
       "      <td>0</td>\n",
       "      <td>Self-employed</td>\n",
       "      <td>82.21</td>\n",
       "      <td>26.0</td>\n",
       "      <td>Never smoked</td>\n",
       "      <td>0</td>\n",
       "    </tr>\n",
       "    <tr>\n",
       "      <th>2</th>\n",
       "      <td>26</td>\n",
       "      <td>0</td>\n",
       "      <td>0</td>\n",
       "      <td>Private</td>\n",
       "      <td>103.61</td>\n",
       "      <td>31.4</td>\n",
       "      <td>Never smoked</td>\n",
       "      <td>0</td>\n",
       "    </tr>\n",
       "    <tr>\n",
       "      <th>3</th>\n",
       "      <td>13</td>\n",
       "      <td>0</td>\n",
       "      <td>0</td>\n",
       "      <td>Children</td>\n",
       "      <td>94.12</td>\n",
       "      <td>20.1</td>\n",
       "      <td>Never smoked</td>\n",
       "      <td>0</td>\n",
       "    </tr>\n",
       "    <tr>\n",
       "      <th>5</th>\n",
       "      <td>7</td>\n",
       "      <td>0</td>\n",
       "      <td>0</td>\n",
       "      <td>Children</td>\n",
       "      <td>87.94</td>\n",
       "      <td>28.1</td>\n",
       "      <td>Unknown</td>\n",
       "      <td>0</td>\n",
       "    </tr>\n",
       "  </tbody>\n",
       "</table>\n",
       "</div>"
      ],
      "text/plain": [
       "   age hypertension heart_disease      work_type  avg_glucose_level   bmi  \\\n",
       "0   23            0             0        Private              92.26  17.1   \n",
       "1   82            0             0  Self-employed              82.21  26.0   \n",
       "2   26            0             0        Private             103.61  31.4   \n",
       "3   13            0             0       Children              94.12  20.1   \n",
       "5    7            0             0       Children              87.94  28.1   \n",
       "\n",
       "  smoking_status stroke  \n",
       "0        Unknown      0  \n",
       "1   Never smoked      0  \n",
       "2   Never smoked      0  \n",
       "3   Never smoked      0  \n",
       "5        Unknown      0  "
      ]
     },
     "execution_count": 361,
     "metadata": {},
     "output_type": "execute_result"
    }
   ],
   "source": [
    "df_modelling = df_cleaned.drop([\"id\", \"Residence_type\", \"gender\", \"ever_married\"], axis = 1)\n",
    "df_modelling.head()"
   ]
  },
  {
   "cell_type": "markdown",
   "id": "3d958a0b",
   "metadata": {},
   "source": [
    "The following columns were dropped for the remainder of this analysis:\n",
    "\n",
    "`id`: An unique patient identifier that has no statistical meaning to the analysis, and only serves to weed out duplicate patient records.\n",
    "\n",
    "`Residence_type`: Significant high p-value (1.000 vs 0.05) in the Chi-square test for target-feature analysis indicates that it is independent of stroke onset in patients.\n",
    "\n",
    "`gender` & `ever_married`: High p-values above significance level in the Chi-square test for target-feature analysis (0.078052 in `gender` & 0.172338 in `ever_married`), indicating that they are weak predictors of stroke. Additionally, these features have high multicollinearity with other strong predictors, which would interfere with model performance.\n",
    "\n",
    "The columns for `smoking_status` and `bmi` were kept for analysis despite the results of the target-feature relationship. Despite the high p-value in the Chi-Square analysis of `smoking_status` and `stroke` (0.511786), and the lack of difference in distribution and median values in the boxplot, literature reviews suggest otherwise that BMI and smoking history are in fact strong predictors of stroke. As such, their values are kept for the modelling process."
   ]
  },
  {
   "cell_type": "code",
   "execution_count": 362,
   "id": "a7a029fe",
   "metadata": {},
   "outputs": [
    {
     "name": "stderr",
     "output_type": "stream",
     "text": [
      "/var/folders/7t/qj85ttzs5jzfv55wltyfltvw0000gn/T/ipykernel_80815/399792149.py:11: FutureWarning: Downcasting behavior in `replace` is deprecated and will be removed in a future version. To retain the old behavior, explicitly call `result.infer_objects(copy=False)`. To opt-in to the future behavior, set `pd.set_option('future.no_silent_downcasting', True)`\n",
      "  df_modelling[\"smoking_status\"] = df_modelling[\"smoking_status\"].replace(smoking_scoring)\n",
      "/var/folders/7t/qj85ttzs5jzfv55wltyfltvw0000gn/T/ipykernel_80815/399792149.py:11: FutureWarning: The behavior of Series.replace (and DataFrame.replace) with CategoricalDtype is deprecated. In a future version, replace will only be used for cases that preserve the categories. To change the categories, use ser.cat.rename_categories instead.\n",
      "  df_modelling[\"smoking_status\"] = df_modelling[\"smoking_status\"].replace(smoking_scoring)\n"
     ]
    },
    {
     "data": {
      "text/html": [
       "<div>\n",
       "<style scoped>\n",
       "    .dataframe tbody tr th:only-of-type {\n",
       "        vertical-align: middle;\n",
       "    }\n",
       "\n",
       "    .dataframe tbody tr th {\n",
       "        vertical-align: top;\n",
       "    }\n",
       "\n",
       "    .dataframe thead th {\n",
       "        text-align: right;\n",
       "    }\n",
       "</style>\n",
       "<table border=\"1\" class=\"dataframe\">\n",
       "  <thead>\n",
       "    <tr style=\"text-align: right;\">\n",
       "      <th></th>\n",
       "      <th>age</th>\n",
       "      <th>hypertension</th>\n",
       "      <th>heart_disease</th>\n",
       "      <th>avg_glucose_level</th>\n",
       "      <th>bmi</th>\n",
       "      <th>smoking_status</th>\n",
       "      <th>stroke</th>\n",
       "      <th>work_Children</th>\n",
       "      <th>work_Govt_job</th>\n",
       "      <th>work_Never_worked</th>\n",
       "      <th>work_Private</th>\n",
       "      <th>work_Self-employed</th>\n",
       "    </tr>\n",
       "  </thead>\n",
       "  <tbody>\n",
       "    <tr>\n",
       "      <th>0</th>\n",
       "      <td>23</td>\n",
       "      <td>0</td>\n",
       "      <td>0</td>\n",
       "      <td>92.26</td>\n",
       "      <td>17.1</td>\n",
       "      <td>0.0</td>\n",
       "      <td>0</td>\n",
       "      <td>False</td>\n",
       "      <td>False</td>\n",
       "      <td>False</td>\n",
       "      <td>True</td>\n",
       "      <td>False</td>\n",
       "    </tr>\n",
       "    <tr>\n",
       "      <th>1</th>\n",
       "      <td>82</td>\n",
       "      <td>0</td>\n",
       "      <td>0</td>\n",
       "      <td>82.21</td>\n",
       "      <td>26.0</td>\n",
       "      <td>0.0</td>\n",
       "      <td>0</td>\n",
       "      <td>False</td>\n",
       "      <td>False</td>\n",
       "      <td>False</td>\n",
       "      <td>False</td>\n",
       "      <td>True</td>\n",
       "    </tr>\n",
       "    <tr>\n",
       "      <th>2</th>\n",
       "      <td>26</td>\n",
       "      <td>0</td>\n",
       "      <td>0</td>\n",
       "      <td>103.61</td>\n",
       "      <td>31.4</td>\n",
       "      <td>0.0</td>\n",
       "      <td>0</td>\n",
       "      <td>False</td>\n",
       "      <td>False</td>\n",
       "      <td>False</td>\n",
       "      <td>True</td>\n",
       "      <td>False</td>\n",
       "    </tr>\n",
       "    <tr>\n",
       "      <th>3</th>\n",
       "      <td>13</td>\n",
       "      <td>0</td>\n",
       "      <td>0</td>\n",
       "      <td>94.12</td>\n",
       "      <td>20.1</td>\n",
       "      <td>0.0</td>\n",
       "      <td>0</td>\n",
       "      <td>True</td>\n",
       "      <td>False</td>\n",
       "      <td>False</td>\n",
       "      <td>False</td>\n",
       "      <td>False</td>\n",
       "    </tr>\n",
       "    <tr>\n",
       "      <th>5</th>\n",
       "      <td>7</td>\n",
       "      <td>0</td>\n",
       "      <td>0</td>\n",
       "      <td>87.94</td>\n",
       "      <td>28.1</td>\n",
       "      <td>0.0</td>\n",
       "      <td>0</td>\n",
       "      <td>True</td>\n",
       "      <td>False</td>\n",
       "      <td>False</td>\n",
       "      <td>False</td>\n",
       "      <td>False</td>\n",
       "    </tr>\n",
       "  </tbody>\n",
       "</table>\n",
       "</div>"
      ],
      "text/plain": [
       "   age hypertension heart_disease  avg_glucose_level   bmi smoking_status  \\\n",
       "0   23            0             0              92.26  17.1            0.0   \n",
       "1   82            0             0              82.21  26.0            0.0   \n",
       "2   26            0             0             103.61  31.4            0.0   \n",
       "3   13            0             0              94.12  20.1            0.0   \n",
       "5    7            0             0              87.94  28.1            0.0   \n",
       "\n",
       "  stroke  work_Children  work_Govt_job  work_Never_worked  work_Private  \\\n",
       "0      0          False          False              False          True   \n",
       "1      0          False          False              False         False   \n",
       "2      0          False          False              False          True   \n",
       "3      0           True          False              False         False   \n",
       "5      0           True          False              False         False   \n",
       "\n",
       "   work_Self-employed  \n",
       "0               False  \n",
       "1                True  \n",
       "2               False  \n",
       "3               False  \n",
       "5               False  "
      ]
     },
     "execution_count": 362,
     "metadata": {},
     "output_type": "execute_result"
    }
   ],
   "source": [
    "# Encoding Smoking Status Column\n",
    "smoking_scoring = {\n",
    "\n",
    "    \"Unknown\": 0,\n",
    "    \"Never smoked\": 0,\n",
    "    \"Formerly smoked\": 0.5,\n",
    "    \"Smokes\": 1\n",
    "\n",
    "}\n",
    "\n",
    "df_modelling[\"smoking_status\"] = df_modelling[\"smoking_status\"].replace(smoking_scoring)\n",
    "\n",
    "# Encoding Work Type Column\n",
    "\n",
    "work_type_encoded = pd.get_dummies(df_modelling[\"work_type\"], prefix= 'work')\n",
    "df_modelling = pd.concat([df_modelling.drop([\"work_type\"],axis=1), work_type_encoded], axis = 1)\n",
    "df_modelling.to_csv(\"../data/stroke_dataset_modelling.csv\")\n",
    "\n",
    "df_modelling.head()"
   ]
  },
  {
   "cell_type": "markdown",
   "id": "c7eef247",
   "metadata": {},
   "source": [
    "The `smoking_status` column was ordinally encoded to reflect potential health risks: \"Unknown\" and \"Never smoked\" were encoded as 0. \"Smokes\" were encoded as 1 to reflect active risk, and \"Formerly smoked\" was encoded as 0.5 to capture any residual effects of past smoking.\n",
    "\n",
    "For the `work_type` column, one-hot encoding was used to avoid introducing ordinality. Dummy variables were created using the \"work_\" prefix and the original columns were dropped."
   ]
  }
 ],
 "metadata": {
  "kernelspec": {
   "display_name": "venv",
   "language": "python",
   "name": "python3"
  },
  "language_info": {
   "codemirror_mode": {
    "name": "ipython",
    "version": 3
   },
   "file_extension": ".py",
   "mimetype": "text/x-python",
   "name": "python",
   "nbconvert_exporter": "python",
   "pygments_lexer": "ipython3",
   "version": "3.12.4"
  }
 },
 "nbformat": 4,
 "nbformat_minor": 5
}
